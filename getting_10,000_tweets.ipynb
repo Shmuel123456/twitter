{
 "cells": [
  {
   "cell_type": "code",
   "execution_count": 1,
   "metadata": {},
   "outputs": [
    {
     "name": "stdout",
     "output_type": "stream",
     "text": [
      "Requirement already satisfied: twython in c:\\users\\mor\\anaconda3\\lib\\site-packages (3.8.2)\n",
      "Requirement already satisfied: requests-oauthlib>=0.4.0 in c:\\users\\mor\\anaconda3\\lib\\site-packages (from twython) (1.3.0)\n",
      "Requirement already satisfied: requests>=2.1.0 in c:\\users\\mor\\anaconda3\\lib\\site-packages (from twython) (2.24.0)\n",
      "Requirement already satisfied: oauthlib>=3.0.0 in c:\\users\\mor\\anaconda3\\lib\\site-packages (from requests-oauthlib>=0.4.0->twython) (3.1.1)\n",
      "Requirement already satisfied: urllib3!=1.25.0,!=1.25.1,<1.26,>=1.21.1 in c:\\users\\mor\\anaconda3\\lib\\site-packages (from requests>=2.1.0->twython) (1.25.11)\n",
      "Requirement already satisfied: chardet<4,>=3.0.2 in c:\\users\\mor\\anaconda3\\lib\\site-packages (from requests>=2.1.0->twython) (3.0.4)\n",
      "Requirement already satisfied: idna<3,>=2.5 in c:\\users\\mor\\anaconda3\\lib\\site-packages (from requests>=2.1.0->twython) (2.10)\n",
      "Requirement already satisfied: certifi>=2017.4.17 in c:\\users\\mor\\anaconda3\\lib\\site-packages (from requests>=2.1.0->twython) (2020.6.20)\n",
      "Requirement already satisfied: tweepy in c:\\users\\mor\\anaconda3\\lib\\site-packages (3.10.0)\n",
      "Requirement already satisfied: requests-oauthlib>=0.7.0 in c:\\users\\mor\\anaconda3\\lib\\site-packages (from tweepy) (1.3.0)\n",
      "Requirement already satisfied: requests[socks]>=2.11.1 in c:\\users\\mor\\anaconda3\\lib\\site-packages (from tweepy) (2.24.0)\n",
      "Requirement already satisfied: six>=1.10.0 in c:\\users\\mor\\anaconda3\\lib\\site-packages (from tweepy) (1.15.0)\n",
      "Requirement already satisfied: oauthlib>=3.0.0 in c:\\users\\mor\\anaconda3\\lib\\site-packages (from requests-oauthlib>=0.7.0->tweepy) (3.1.1)\n",
      "Requirement already satisfied: idna<3,>=2.5 in c:\\users\\mor\\anaconda3\\lib\\site-packages (from requests[socks]>=2.11.1->tweepy) (2.10)\n",
      "Requirement already satisfied: urllib3!=1.25.0,!=1.25.1,<1.26,>=1.21.1 in c:\\users\\mor\\anaconda3\\lib\\site-packages (from requests[socks]>=2.11.1->tweepy) (1.25.11)\n",
      "Requirement already satisfied: certifi>=2017.4.17 in c:\\users\\mor\\anaconda3\\lib\\site-packages (from requests[socks]>=2.11.1->tweepy) (2020.6.20)\n",
      "Requirement already satisfied: chardet<4,>=3.0.2 in c:\\users\\mor\\anaconda3\\lib\\site-packages (from requests[socks]>=2.11.1->tweepy) (3.0.4)\n",
      "Requirement already satisfied: PySocks!=1.5.7,>=1.5.6; extra == \"socks\" in c:\\users\\mor\\anaconda3\\lib\\site-packages (from requests[socks]>=2.11.1->tweepy) (1.7.1)\n"
     ]
    }
   ],
   "source": [
    "!pip install twython\n",
    "from twython import Twython\n",
    "!pip install tweepy"
   ]
  },
  {
   "cell_type": "code",
   "execution_count": 2,
   "metadata": {},
   "outputs": [],
   "source": [
    "import os\n",
    "import pandas as pd\n",
    "import tweepy as tw\n",
    "import time\n",
    "import csv\n",
    "import re \n",
    "import string\n",
    "from tweepy import *"
   ]
  },
  {
   "cell_type": "code",
   "execution_count": 3,
   "metadata": {},
   "outputs": [],
   "source": [
    "BT = \"AAAAAAAAAAAAAAAAAAAAAJtGNQEAAAAA1Iek7lCeheF1fwY%2B77IpIHFABe4%3DFD1TrELX97CXY41A2iCCLwqpu1DAEuVjgTTesOLaL02ziFe6wp\"\n",
    "AT = \"1367195278479142914-MDa7G2nlf33gfG3WKPr7VPRqe6tNPL\"\n",
    "ATS = \"3TWSLjbDkOTDbJQo2KaSxapYoUyfM3DjWzXMVVQG0nlT6\"\n",
    "APIKey = \"XxU2vxvZnGgm9pZzHFxcpnMl2\"\n",
    "APIKeySecret = \"9K8YIhKLxJ39yqnpXzdwPZSxFQ9Q3zVZXAeZVoCFdASrYua5Uw\"\n",
    "auth = tw.OAuthHandler(APIKey, APIKeySecret)\n",
    "auth.set_access_token(AT, ATS)\n",
    "api = tw.API(auth, wait_on_rate_limit=True)"
   ]
  },
  {
   "cell_type": "code",
   "execution_count": null,
   "metadata": {},
   "outputs": [],
   "source": [
    "def reTweetCount(tweetId):\n",
    "    try:\n",
    "        retweets_list = api.retweets(tweetId)\n",
    "        print('worked')\n",
    "        count = 0\n",
    "        for retweet in retweets_list: \n",
    "            count = count + 1\n",
    "        return count\n",
    "    except tw.TweepError:\n",
    "\n",
    "      # if tweepy encounters an error, sleep for fifteen minutes..this will\n",
    "      # help against API bans.\n",
    "            print('sleep5m')\n",
    "            time.sleep(60 * 5)\n",
    "            reTweetCount(tweetId)\n",
    "    except KeyboardInterrupt:\n",
    "        return"
   ]
  },
  {
   "cell_type": "code",
   "execution_count": 5,
   "metadata": {},
   "outputs": [],
   "source": [
    "df = pd.DataFrame({})\n",
    "search_words = \"#\"#\"-filter:retweets\"\n",
    "\n"
   ]
  },
  {
   "cell_type": "code",
   "execution_count": null,
   "metadata": {},
   "outputs": [],
   "source": [
    "tweets = tw.Cursor(api.search,\n",
    "                      q=search_words,\n",
    "                      lang=\"en\",\n",
    "                      result_type='popular',\n",
    "                      until = '2021-06-25',\n",
    "                      count = 200)"
   ]
  },
  {
   "cell_type": "code",
   "execution_count": null,
   "metadata": {},
   "outputs": [],
   "source": [
    "for tweet in tweets.items(int(200)):\n",
    "            count = reTweetCount(tweet.id)\n",
    "            df1 = pd.DataFrame({\n",
    "                'id': [tweet.id],\n",
    "                'user name': [tweet.user.screen_name],\n",
    "                'text': [tweet.text],\n",
    "                'time stamps': [tweet.created_at],\n",
    "                'retweets': [count]\n",
    "            })\n",
    "            frames = [df, df1]\n",
    "            df = pd.concat(frames)\n",
    "df.to_excel('tweetsFirst200.xlsx')"
   ]
  },
  {
   "cell_type": "code",
   "execution_count": 8,
   "metadata": {},
   "outputs": [
    {
     "data": {
      "text/html": [
       "<div>\n",
       "<style scoped>\n",
       "    .dataframe tbody tr th:only-of-type {\n",
       "        vertical-align: middle;\n",
       "    }\n",
       "\n",
       "    .dataframe tbody tr th {\n",
       "        vertical-align: top;\n",
       "    }\n",
       "\n",
       "    .dataframe thead th {\n",
       "        text-align: right;\n",
       "    }\n",
       "</style>\n",
       "<table border=\"1\" class=\"dataframe\">\n",
       "  <thead>\n",
       "    <tr style=\"text-align: right;\">\n",
       "      <th></th>\n",
       "      <th>Unnamed: 0</th>\n",
       "      <th>id</th>\n",
       "      <th>user name</th>\n",
       "      <th>text</th>\n",
       "      <th>time stamps</th>\n",
       "      <th>retweets</th>\n",
       "    </tr>\n",
       "  </thead>\n",
       "  <tbody>\n",
       "    <tr>\n",
       "      <th>0</th>\n",
       "      <td>0</td>\n",
       "      <td>1408077456456646912</td>\n",
       "      <td>BIGHIT_MUSIC</td>\n",
       "      <td>&amp;lt; Jimin @ Photo Booth &amp;gt;\\n\\n🎵 https://t.c...</td>\n",
       "      <td>2021-06-24 15:00:01</td>\n",
       "      <td>17</td>\n",
       "    </tr>\n",
       "    <tr>\n",
       "      <th>1</th>\n",
       "      <td>0</td>\n",
       "      <td>1408077587344104960</td>\n",
       "      <td>BIGHIT_MUSIC</td>\n",
       "      <td>&amp;lt; SUGA @ Photo Booth &amp;gt;\\n\\n🎵 https://t.co...</td>\n",
       "      <td>2021-06-24 15:00:32</td>\n",
       "      <td>18</td>\n",
       "    </tr>\n",
       "    <tr>\n",
       "      <th>2</th>\n",
       "      <td>0</td>\n",
       "      <td>1408077526425947904</td>\n",
       "      <td>BIGHIT_MUSIC</td>\n",
       "      <td>&amp;lt; RM @ Photo Booth &amp;gt;\\n\\n🎵 https://t.co/a...</td>\n",
       "      <td>2021-06-24 15:00:17</td>\n",
       "      <td>20</td>\n",
       "    </tr>\n",
       "    <tr>\n",
       "      <th>3</th>\n",
       "      <td>0</td>\n",
       "      <td>1408078078664790016</td>\n",
       "      <td>NCTsmtown_DREAM</td>\n",
       "      <td>BIG DREAMS, BIG THRILLS\\n\\nNCT DREAM The 1st A...</td>\n",
       "      <td>2021-06-24 15:02:29</td>\n",
       "      <td>15</td>\n",
       "    </tr>\n",
       "    <tr>\n",
       "      <th>4</th>\n",
       "      <td>0</td>\n",
       "      <td>1408077969495518976</td>\n",
       "      <td>NCTsmtown_DREAM</td>\n",
       "      <td>BIG DREAMS, BIG THRILLS #CHENLE\\n\\nNCT DREAM T...</td>\n",
       "      <td>2021-06-24 15:02:03</td>\n",
       "      <td>17</td>\n",
       "    </tr>\n",
       "    <tr>\n",
       "      <th>...</th>\n",
       "      <td>...</td>\n",
       "      <td>...</td>\n",
       "      <td>...</td>\n",
       "      <td>...</td>\n",
       "      <td>...</td>\n",
       "      <td>...</td>\n",
       "    </tr>\n",
       "    <tr>\n",
       "      <th>195</th>\n",
       "      <td>0</td>\n",
       "      <td>1406960095326608896</td>\n",
       "      <td>pledis_17</td>\n",
       "      <td>SEVENTEEN(세븐틴) 'Ready to love' M/V BEHIND THE ...</td>\n",
       "      <td>2021-06-21 13:00:01</td>\n",
       "      <td>19</td>\n",
       "    </tr>\n",
       "    <tr>\n",
       "      <th>196</th>\n",
       "      <td>0</td>\n",
       "      <td>1406930143533167104</td>\n",
       "      <td>loonatheworld</td>\n",
       "      <td>Concept Photo - \"Kim Lip\"\\n\\nLOOПΔ 4th Mini Al...</td>\n",
       "      <td>2021-06-21 11:01:00</td>\n",
       "      <td>14</td>\n",
       "    </tr>\n",
       "    <tr>\n",
       "      <th>197</th>\n",
       "      <td>0</td>\n",
       "      <td>1406887601647369984</td>\n",
       "      <td>itvnews</td>\n",
       "      <td>Exclusive: Amazon is destroying millions of it...</td>\n",
       "      <td>2021-06-21 08:11:57</td>\n",
       "      <td>20</td>\n",
       "    </tr>\n",
       "    <tr>\n",
       "      <th>198</th>\n",
       "      <td>0</td>\n",
       "      <td>1406811877795979008</td>\n",
       "      <td>marktuan</td>\n",
       "      <td>HAPPY FATHERS DAY! https://t.co/rFgNrgmfZs</td>\n",
       "      <td>2021-06-21 03:11:03</td>\n",
       "      <td>17</td>\n",
       "    </tr>\n",
       "    <tr>\n",
       "      <th>199</th>\n",
       "      <td>0</td>\n",
       "      <td>1406821712054918912</td>\n",
       "      <td>JoelEmbiid</td>\n",
       "      <td>PHILLY I LOVE YOU\\nSorry to disappoint you aga...</td>\n",
       "      <td>2021-06-21 03:50:08</td>\n",
       "      <td>17</td>\n",
       "    </tr>\n",
       "  </tbody>\n",
       "</table>\n",
       "<p>200 rows × 6 columns</p>\n",
       "</div>"
      ],
      "text/plain": [
       "     Unnamed: 0                   id        user name  \\\n",
       "0             0  1408077456456646912     BIGHIT_MUSIC   \n",
       "1             0  1408077587344104960     BIGHIT_MUSIC   \n",
       "2             0  1408077526425947904     BIGHIT_MUSIC   \n",
       "3             0  1408078078664790016  NCTsmtown_DREAM   \n",
       "4             0  1408077969495518976  NCTsmtown_DREAM   \n",
       "..          ...                  ...              ...   \n",
       "195           0  1406960095326608896        pledis_17   \n",
       "196           0  1406930143533167104    loonatheworld   \n",
       "197           0  1406887601647369984          itvnews   \n",
       "198           0  1406811877795979008         marktuan   \n",
       "199           0  1406821712054918912       JoelEmbiid   \n",
       "\n",
       "                                                  text         time stamps  \\\n",
       "0    &lt; Jimin @ Photo Booth &gt;\\n\\n🎵 https://t.c... 2021-06-24 15:00:01   \n",
       "1    &lt; SUGA @ Photo Booth &gt;\\n\\n🎵 https://t.co... 2021-06-24 15:00:32   \n",
       "2    &lt; RM @ Photo Booth &gt;\\n\\n🎵 https://t.co/a... 2021-06-24 15:00:17   \n",
       "3    BIG DREAMS, BIG THRILLS\\n\\nNCT DREAM The 1st A... 2021-06-24 15:02:29   \n",
       "4    BIG DREAMS, BIG THRILLS #CHENLE\\n\\nNCT DREAM T... 2021-06-24 15:02:03   \n",
       "..                                                 ...                 ...   \n",
       "195  SEVENTEEN(세븐틴) 'Ready to love' M/V BEHIND THE ... 2021-06-21 13:00:01   \n",
       "196  Concept Photo - \"Kim Lip\"\\n\\nLOOПΔ 4th Mini Al... 2021-06-21 11:01:00   \n",
       "197  Exclusive: Amazon is destroying millions of it... 2021-06-21 08:11:57   \n",
       "198         HAPPY FATHERS DAY! https://t.co/rFgNrgmfZs 2021-06-21 03:11:03   \n",
       "199  PHILLY I LOVE YOU\\nSorry to disappoint you aga... 2021-06-21 03:50:08   \n",
       "\n",
       "     retweets  \n",
       "0          17  \n",
       "1          18  \n",
       "2          20  \n",
       "3          15  \n",
       "4          17  \n",
       "..        ...  \n",
       "195        19  \n",
       "196        14  \n",
       "197        20  \n",
       "198        17  \n",
       "199        17  \n",
       "\n",
       "[200 rows x 6 columns]"
      ]
     },
     "execution_count": 8,
     "metadata": {},
     "output_type": "execute_result"
    }
   ],
   "source": [
    "df2 = pd.read_excel(r'tweetsFirst200.xlsx')\n",
    "df2"
   ]
  },
  {
   "cell_type": "code",
   "execution_count": null,
   "metadata": {},
   "outputs": [],
   "source": [
    "lastID = df2['id'].iloc[-1]\n",
    "lastID"
   ]
  },
  {
   "cell_type": "code",
   "execution_count": null,
   "metadata": {},
   "outputs": [],
   "source": [
    "fn = 'allTweets.xlsx'\n",
    "df2.to_excel(fn)"
   ]
  },
  {
   "cell_type": "code",
   "execution_count": 6,
   "metadata": {},
   "outputs": [],
   "source": [
    "def getLastTweetID(dataFrame):\n",
    "    return dataFrame['id'].iloc[-1]"
   ]
  },
  {
   "cell_type": "code",
   "execution_count": 9,
   "metadata": {},
   "outputs": [],
   "source": [
    "def getLast200Tweets(lastID):\n",
    "    try:\n",
    "        df1 = pd.DataFrame({})\n",
    "        tweets = tw.Cursor(api.search,\n",
    "                          q=search_words,\n",
    "                          lang=\"en\",\n",
    "                          max_id=lastID,\n",
    "                          result_type='popular',\n",
    "                          until = '2021-06-25',\n",
    "                          count = 200)\n",
    "        for tweet in tweets.items(int(200)):\n",
    "            count = reTweetCount(tweet.id)\n",
    "            dfT = pd.DataFrame({\n",
    "                    'id': [tweet.id],\n",
    "                    'user name': [tweet.user.screen_name],\n",
    "                    'text': [tweet.text],\n",
    "                    'time stamps': [tweet.created_at],\n",
    "                    'retweets': [count]\n",
    "            })\n",
    "            frames = [df1, dfT]\n",
    "            df1 = pd.concat(frames)\n",
    "        return df1\n",
    "    except tw.TweepError:\n",
    "\n",
    "      # if tweepy encounters an error, sleep for fifteen minutes..this will\n",
    "      # help against API bans.\n",
    "\n",
    "            time.sleep(60 * 5)\n",
    "            getLast200Tweets(lastID)\n",
    "    except KeyboardInterrupt:\n",
    "        return "
   ]
  },
  {
   "cell_type": "code",
   "execution_count": null,
   "metadata": {},
   "outputs": [],
   "source": [
    "i = 0\n",
    "while (i<50):\n",
    "    dfT = getLast200Tweets(lastID)\n",
    "    frames = [df2, dfT]\n",
    "    df2 = pd.concat(frames)\n",
    "    lastID = getLastTweetID(df2)\n",
    "    i = i + 1\n",
    "df2.to_excel(fn)    "
   ]
  },
  {
   "cell_type": "code",
   "execution_count": null,
   "metadata": {},
   "outputs": [],
   "source": [
    "df2"
   ]
  },
  {
   "cell_type": "code",
   "execution_count": 10,
   "metadata": {},
   "outputs": [],
   "source": [
    "def searchTweetsByTag(tag):\n",
    "    try:\n",
    "        df1 = pd.DataFrame({})\n",
    "        tweets = tw.Cursor(api.search,\n",
    "                          q=tag,\n",
    "                          lang=\"en\",\n",
    "                          until = '2021-06-25',\n",
    "                          count = 200)\n",
    "        for tweet in tweets.items(int(200)):\n",
    "           # count = reTweetCount(tweet.id)\n",
    "            dfT = pd.DataFrame({\n",
    "                    'id': [tweet.id],\n",
    "                    'user name': [tweet.user.screen_name],\n",
    "                    'text': [tweet.text],\n",
    "                    'time stamps': [tweet.created_at],\n",
    "                    'retweets': [0]\n",
    "            })\n",
    "            frames = [df1, dfT]\n",
    "            df1 = pd.concat(frames)\n",
    "        return df1\n",
    "    except tw.TweepError:\n",
    "\n",
    "      # if tweepy encounters an error, sleep for five minutes..this will\n",
    "      # help against API bans.\n",
    "\n",
    "            time.sleep(60 * 5)\n",
    "            searchTweetsByTag(tag)\n",
    "    except KeyboardInterrupt:\n",
    "        return"
   ]
  },
  {
   "cell_type": "code",
   "execution_count": 11,
   "metadata": {},
   "outputs": [],
   "source": [
    "ashtagList = ['#love','#instagood','#photooftheday','#fashion','#beautiful','#happy','#cute','#tbt',\n",
    "              '#like4like','#followme','#picoftheday','#follow','#me','#selfie','#summer','#art','#instadaily',\n",
    "             '#friends','#repost','#nature','#girl','#fun','#style','#smile','#food','#instalike','#likeforlike',\n",
    "             '#family','#travel','#fitness','#igers','#tagsforlikes','#follow4follow','#nofilter','#life','#beauty',\n",
    "             '#amazing','#instamood','#instagram','#photography']\n",
    "ashtagList2 = ['#medicaid','#ico','#ethereum','#aca','#crypto','#crowdfunding','#giveaway','#contest',\n",
    "               '#blackhistorymonth','#womenshistorymonth','#cryptocurrency','#womensday','#happybirthday',\n",
    "               '#authentication','#win','#medicare','#internationalwomensday','#influencermarketing',\n",
    "               '#opioid','#healthinsurance','#qa','#funny','#womeninstem','#iwd2019','#photography','#mondaymotivation',\n",
    "               '#ootd','#vegan','#traveltuesday','#tbt','#euro2020','#corona','#regionales2021']"
   ]
  },
  {
   "cell_type": "code",
   "execution_count": null,
   "metadata": {},
   "outputs": [],
   "source": [
    "\n",
    "for tag in ashtagList:\n",
    "    fileName = tag + 'Npop.xlsx'\n",
    "    tagDF = searchTweetsByTag(tag)\n",
    "    tagDF.to_excel(fileName)"
   ]
  },
  {
   "cell_type": "code",
   "execution_count": null,
   "metadata": {},
   "outputs": [],
   "source": [
    "\n",
    "for tag in ashtagList2:\n",
    "    fileName = tag + 'Npop.xlsx'\n",
    "    tagDF = searchTweetsByTag(tag)\n",
    "    tagDF.to_excel(fileName)"
   ]
  },
  {
   "cell_type": "code",
   "execution_count": null,
   "metadata": {},
   "outputs": [],
   "source": [
    "twFromAllTags = pd.DataFrame({})\n",
    "for tag in ashtagList:\n",
    "    fn = tag + '.xlsx'\n",
    "    tDF = twFromAllTags\n",
    "    nDF = pd.read_excel(fn)\n",
    "    frames = [tDF,nDF]\n",
    "    twFromAllTags = pd.concat(frames, ignore_index=True)\n",
    "    \n",
    "for tag in ashtagList2:\n",
    "    fn = tag + '.xlsx'\n",
    "    tDF = twFromAllTags\n",
    "    nDF = pd.read_excel(fn)\n",
    "    frames = [tDF,nDF]\n",
    "    twFromAllTags = pd.concat(frames, ignore_index=True)\n",
    "    \n",
    "twFromAllTags"
   ]
  },
  {
   "cell_type": "code",
   "execution_count": null,
   "metadata": {},
   "outputs": [],
   "source": [
    "twFromAllTags.info()"
   ]
  },
  {
   "cell_type": "code",
   "execution_count": null,
   "metadata": {},
   "outputs": [],
   "source": [
    "idList = twFromAllTags['id']\n",
    "flag = len(set(idList)) == len(idList)\n",
    "flag"
   ]
  },
  {
   "cell_type": "code",
   "execution_count": null,
   "metadata": {},
   "outputs": [],
   "source": [
    "twFromAllTagsNpop = pd.DataFrame({})\n",
    "for tag in ashtagList:\n",
    "    fn = tag + 'Npop.xlsx'\n",
    "    tDF = twFromAllTagsNpop\n",
    "    nDF = pd.read_excel(fn)\n",
    "    frames = [tDF,nDF]\n",
    "    twFromAllTagsNpop = pd.concat(frames, ignore_index=True)\n",
    "    \n",
    "for tag in ashtagList2:\n",
    "    fn = tag + 'Npop.xlsx'\n",
    "    tDF = twFromAllTagsNpop\n",
    "    nDF = pd.read_excel(fn)\n",
    "    frames = [tDF,nDF]\n",
    "    twFromAllTagsNpop = pd.concat(frames, ignore_index=True)\n",
    "    \n",
    "twFromAllTagsNpop"
   ]
  },
  {
   "cell_type": "code",
   "execution_count": null,
   "metadata": {},
   "outputs": [],
   "source": [
    "twFromAllTagsNpop.info()"
   ]
  },
  {
   "cell_type": "code",
   "execution_count": null,
   "metadata": {},
   "outputs": [],
   "source": [
    "idList = twFromAllTagsNpop['id']\n",
    "flag = len(set(idList)) == len(idList)\n",
    "flag"
   ]
  },
  {
   "cell_type": "code",
   "execution_count": 12,
   "metadata": {},
   "outputs": [],
   "source": [
    "list2NpopDF = pd.DataFrame({})\n",
    "for tag in ashtagList2:\n",
    "    fn = tag + 'Npop.xlsx'\n",
    "    tDF = list2NpopDF\n",
    "    nDF = pd.read_excel(fn)\n",
    "    frames = [tDF,nDF]\n",
    "    list2NpopDF = pd.concat(frames, ignore_index=True)\n"
   ]
  },
  {
   "cell_type": "code",
   "execution_count": 13,
   "metadata": {},
   "outputs": [
    {
     "name": "stdout",
     "output_type": "stream",
     "text": [
      "<class 'pandas.core.frame.DataFrame'>\n",
      "RangeIndex: 6410 entries, 0 to 6409\n",
      "Data columns (total 6 columns):\n",
      " #   Column       Non-Null Count  Dtype         \n",
      "---  ------       --------------  -----         \n",
      " 0   Unnamed: 0   6410 non-null   int64         \n",
      " 1   id           6410 non-null   int64         \n",
      " 2   user name    6410 non-null   object        \n",
      " 3   text         6410 non-null   object        \n",
      " 4   time stamps  6410 non-null   datetime64[ns]\n",
      " 5   retweets     6410 non-null   int64         \n",
      "dtypes: datetime64[ns](1), int64(3), object(2)\n",
      "memory usage: 300.6+ KB\n"
     ]
    }
   ],
   "source": [
    "list2NpopDF.info()"
   ]
  },
  {
   "cell_type": "code",
   "execution_count": 26,
   "metadata": {},
   "outputs": [
    {
     "name": "stdout",
     "output_type": "stream",
     "text": [
      "sleep5m\n"
     ]
    },
    {
     "ename": "KeyboardInterrupt",
     "evalue": "",
     "output_type": "error",
     "traceback": [
      "\u001b[1;31m---------------------------------------------------------------------------\u001b[0m",
      "\u001b[1;31mTweepError\u001b[0m                                Traceback (most recent call last)",
      "\u001b[1;32m<ipython-input-24-82bdafef892d>\u001b[0m in \u001b[0;36mreTweetCount\u001b[1;34m(tweetId)\u001b[0m\n\u001b[0;32m      2\u001b[0m     \u001b[1;32mtry\u001b[0m\u001b[1;33m:\u001b[0m\u001b[1;33m\u001b[0m\u001b[1;33m\u001b[0m\u001b[0m\n\u001b[1;32m----> 3\u001b[1;33m         \u001b[0mretweets_list\u001b[0m \u001b[1;33m=\u001b[0m \u001b[0mapi\u001b[0m\u001b[1;33m.\u001b[0m\u001b[0mretweets\u001b[0m\u001b[1;33m(\u001b[0m\u001b[0mtweetId\u001b[0m\u001b[1;33m)\u001b[0m\u001b[1;33m\u001b[0m\u001b[1;33m\u001b[0m\u001b[0m\n\u001b[0m\u001b[0;32m      4\u001b[0m         \u001b[0mprint\u001b[0m\u001b[1;33m(\u001b[0m\u001b[1;34m'worked'\u001b[0m\u001b[1;33m)\u001b[0m\u001b[1;33m\u001b[0m\u001b[1;33m\u001b[0m\u001b[0m\n",
      "\u001b[1;32m~\\anaconda3\\lib\\site-packages\\tweepy\\binder.py\u001b[0m in \u001b[0;36m_call\u001b[1;34m(*args, **kwargs)\u001b[0m\n\u001b[0;32m    252\u001b[0m             \u001b[1;32melse\u001b[0m\u001b[1;33m:\u001b[0m\u001b[1;33m\u001b[0m\u001b[1;33m\u001b[0m\u001b[0m\n\u001b[1;32m--> 253\u001b[1;33m                 \u001b[1;32mreturn\u001b[0m \u001b[0mmethod\u001b[0m\u001b[1;33m.\u001b[0m\u001b[0mexecute\u001b[0m\u001b[1;33m(\u001b[0m\u001b[1;33m)\u001b[0m\u001b[1;33m\u001b[0m\u001b[1;33m\u001b[0m\u001b[0m\n\u001b[0m\u001b[0;32m    254\u001b[0m         \u001b[1;32mfinally\u001b[0m\u001b[1;33m:\u001b[0m\u001b[1;33m\u001b[0m\u001b[1;33m\u001b[0m\u001b[0m\n",
      "\u001b[1;32m~\\anaconda3\\lib\\site-packages\\tweepy\\binder.py\u001b[0m in \u001b[0;36mexecute\u001b[1;34m(self)\u001b[0m\n\u001b[0;32m    233\u001b[0m                 \u001b[1;32melse\u001b[0m\u001b[1;33m:\u001b[0m\u001b[1;33m\u001b[0m\u001b[1;33m\u001b[0m\u001b[0m\n\u001b[1;32m--> 234\u001b[1;33m                     \u001b[1;32mraise\u001b[0m \u001b[0mTweepError\u001b[0m\u001b[1;33m(\u001b[0m\u001b[0merror_msg\u001b[0m\u001b[1;33m,\u001b[0m \u001b[0mresp\u001b[0m\u001b[1;33m,\u001b[0m \u001b[0mapi_code\u001b[0m\u001b[1;33m=\u001b[0m\u001b[0mapi_error_code\u001b[0m\u001b[1;33m)\u001b[0m\u001b[1;33m\u001b[0m\u001b[1;33m\u001b[0m\u001b[0m\n\u001b[0m\u001b[0;32m    235\u001b[0m \u001b[1;33m\u001b[0m\u001b[0m\n",
      "\u001b[1;31mTweepError\u001b[0m: [{'code': 89, 'message': 'Invalid or expired token.'}]",
      "\nDuring handling of the above exception, another exception occurred:\n",
      "\u001b[1;31mKeyboardInterrupt\u001b[0m                         Traceback (most recent call last)",
      "\u001b[1;32m<ipython-input-26-1c27275d18ad>\u001b[0m in \u001b[0;36m<module>\u001b[1;34m\u001b[0m\n\u001b[0;32m      1\u001b[0m \u001b[1;32mfor\u001b[0m \u001b[0mi\u001b[0m \u001b[1;32min\u001b[0m \u001b[0mrange\u001b[0m \u001b[1;33m(\u001b[0m\u001b[0mlen\u001b[0m\u001b[1;33m(\u001b[0m\u001b[0mlist2NpopDF\u001b[0m\u001b[1;33m)\u001b[0m\u001b[1;33m)\u001b[0m\u001b[1;33m:\u001b[0m\u001b[1;33m\u001b[0m\u001b[1;33m\u001b[0m\u001b[0m\n\u001b[1;32m----> 2\u001b[1;33m     \u001b[0mlist2NpopDF\u001b[0m\u001b[1;33m[\u001b[0m\u001b[1;34m'retweets'\u001b[0m\u001b[1;33m]\u001b[0m\u001b[1;33m.\u001b[0m\u001b[0miloc\u001b[0m\u001b[1;33m[\u001b[0m\u001b[0mi\u001b[0m\u001b[1;33m]\u001b[0m \u001b[1;33m=\u001b[0m \u001b[0mreTweetCount\u001b[0m\u001b[1;33m(\u001b[0m\u001b[0mlist2NpopDF\u001b[0m\u001b[1;33m[\u001b[0m\u001b[1;34m'id'\u001b[0m\u001b[1;33m]\u001b[0m\u001b[1;33m.\u001b[0m\u001b[0miloc\u001b[0m\u001b[1;33m[\u001b[0m\u001b[0mi\u001b[0m\u001b[1;33m]\u001b[0m\u001b[1;33m)\u001b[0m\u001b[1;33m\u001b[0m\u001b[1;33m\u001b[0m\u001b[0m\n\u001b[0m\u001b[0;32m      3\u001b[0m \u001b[0mlist2NpopDF\u001b[0m\u001b[1;33m.\u001b[0m\u001b[0mto_excel\u001b[0m\u001b[1;33m(\u001b[0m\u001b[1;34m'list2NpopReTwCou.xlsx'\u001b[0m\u001b[1;33m)\u001b[0m\u001b[1;33m\u001b[0m\u001b[1;33m\u001b[0m\u001b[0m\n",
      "\u001b[1;32m<ipython-input-24-82bdafef892d>\u001b[0m in \u001b[0;36mreTweetCount\u001b[1;34m(tweetId)\u001b[0m\n\u001b[0;32m     12\u001b[0m       \u001b[1;31m# help against API bans.\u001b[0m\u001b[1;33m\u001b[0m\u001b[1;33m\u001b[0m\u001b[1;33m\u001b[0m\u001b[0m\n\u001b[0;32m     13\u001b[0m             \u001b[0mprint\u001b[0m\u001b[1;33m(\u001b[0m\u001b[1;34m'sleep5m'\u001b[0m\u001b[1;33m)\u001b[0m\u001b[1;33m\u001b[0m\u001b[1;33m\u001b[0m\u001b[0m\n\u001b[1;32m---> 14\u001b[1;33m             \u001b[0mtime\u001b[0m\u001b[1;33m.\u001b[0m\u001b[0msleep\u001b[0m\u001b[1;33m(\u001b[0m\u001b[1;36m60\u001b[0m \u001b[1;33m*\u001b[0m \u001b[1;36m5\u001b[0m\u001b[1;33m)\u001b[0m\u001b[1;33m\u001b[0m\u001b[1;33m\u001b[0m\u001b[0m\n\u001b[0m\u001b[0;32m     15\u001b[0m             \u001b[0mreTweetCount\u001b[0m\u001b[1;33m(\u001b[0m\u001b[0mtweetId\u001b[0m\u001b[1;33m)\u001b[0m\u001b[1;33m\u001b[0m\u001b[1;33m\u001b[0m\u001b[0m\n\u001b[0;32m     16\u001b[0m     \u001b[1;32mexcept\u001b[0m \u001b[0mKeyboardInterrupt\u001b[0m\u001b[1;33m:\u001b[0m\u001b[1;33m\u001b[0m\u001b[1;33m\u001b[0m\u001b[0m\n",
      "\u001b[1;31mKeyboardInterrupt\u001b[0m: "
     ]
    }
   ],
   "source": [
    "for i in range (len(list2NpopDF)):\n",
    "    list2NpopDF['retweets'].iloc[i] = reTweetCount(list2NpopDF['id'].iloc[i])\n",
    "list2NpopDF.to_excel('list2NpopReTwCou.xlsx')"
   ]
  },
  {
   "cell_type": "code",
   "execution_count": 27,
   "metadata": {},
   "outputs": [
    {
     "data": {
      "text/plain": [
       "0"
      ]
     },
     "execution_count": 27,
     "metadata": {},
     "output_type": "execute_result"
    }
   ],
   "source": [
    "list2NpopDF['retweets'].max()"
   ]
  },
  {
   "cell_type": "code",
   "execution_count": null,
   "metadata": {},
   "outputs": [],
   "source": []
  }
 ],
 "metadata": {
  "kernelspec": {
   "display_name": "Python 3",
   "language": "python",
   "name": "python3"
  },
  "language_info": {
   "codemirror_mode": {
    "name": "ipython",
    "version": 3
   },
   "file_extension": ".py",
   "mimetype": "text/x-python",
   "name": "python",
   "nbconvert_exporter": "python",
   "pygments_lexer": "ipython3",
   "version": "3.8.5"
  }
 },
 "nbformat": 4,
 "nbformat_minor": 4
}

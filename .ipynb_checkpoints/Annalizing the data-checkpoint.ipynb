{
 "cells": [
  {
   "cell_type": "code",
   "execution_count": 10,
   "metadata": {},
   "outputs": [
    {
     "name": "stderr",
     "output_type": "stream",
     "text": [
      "Matplotlib is building the font cache; this may take a moment.\n"
     ]
    }
   ],
   "source": [
    "import os\n",
    "import pandas as pd\n",
    "import tweepy as tw\n",
    "import time\n",
    "import csv\n",
    "import re \n",
    "import string\n",
    "import numpy as np\n",
    "import matplotlib as mpl\n",
    "import matplotlib.pyplot as plt      \n",
    "import math\n",
    "import seaborn as sns\n",
    "from collections import Counter\n",
    "from sklearn.decomposition import PCA\n",
    "%matplotlib inline"
   ]
  },
  {
   "cell_type": "code",
   "execution_count": 2,
   "metadata": {},
   "outputs": [],
   "source": [
    " = pd.read_excel('AllTagsReady.xlsx')      "
   ]
  },
  {
   "cell_type": "code",
   "execution_count": 3,
   "metadata": {},
   "outputs": [],
   "source": [
    "def get_frequent_elements(df, col_name, num_top_elements):\n",
    "    return df[col_name].value_counts().head(num_top_elements).sort_index()"
   ]
  },
  {
   "cell_type": "code",
   "execution_count": 4,
   "metadata": {},
   "outputs": [],
   "source": [
    "def one_dim_plot(sr, plot_type, axis):\n",
    "    sr.plot(kind=plot_type, ax=axis)"
   ]
  },
  {
   "cell_type": "code",
   "execution_count": 7,
   "metadata": {},
   "outputs": [
    {
     "data": {
      "text/plain": [
       "0     11653\n",
       "1       448\n",
       "2       118\n",
       "3        37\n",
       "4        28\n",
       "5        16\n",
       "6         9\n",
       "7        13\n",
       "8         4\n",
       "9         5\n",
       "10        9\n",
       "11        3\n",
       "13        7\n",
       "14       11\n",
       "15       30\n",
       "16       51\n",
       "17       64\n",
       "18      105\n",
       "19      155\n",
       "20      200\n",
       "Name: retweets, dtype: int64"
      ]
     },
     "execution_count": 7,
     "metadata": {},
     "output_type": "execute_result"
    }
   ],
   "source": [
    "get_frequent_elements(df,'retweets',20)"
   ]
  },
  {
   "cell_type": "code",
   "execution_count": 11,
   "metadata": {},
   "outputs": [
    {
     "data": {
      "image/png": "[encoded data removed]",
      "text/plain": [
       "<Figure size 1440x360 with 2 Axes>"
      ]
     },
     "metadata": {
      "needs_background": "light"
     },
     "output_type": "display_data"
    }
   ],
   "source": [
    "fig, axes = plt.subplots(1,2, figsize=(20,5))\n",
    "one_dim_plot(get_frequent_elements(df,'retweets',20), 'pie', axes[1])"
   ]
  },
  {
   "cell_type": "code",
   "execution_count": 16,
   "metadata": {},
   "outputs": [
    {
     "data": {
      "text/plain": [
       "AG_Exposed         10\n",
       "Ah_ma_rah          23\n",
       "Alex_Verbeek       10\n",
       "Ameericanrambl1    11\n",
       "AnimeWithYou       28\n",
       "                   ..\n",
       "sarcastic_affff    20\n",
       "suzanimal0          8\n",
       "tjob_i             15\n",
       "travelwjane        33\n",
       "womeninstemSA      56\n",
       "Name: user name, Length: 95, dtype: int64"
      ]
     },
     "execution_count": 16,
     "metadata": {},
     "output_type": "execute_result"
    }
   ],
   "source": [
    "get_frequent_elements(df,'user name',95)"
   ]
  },
  {
   "cell_type": "code",
   "execution_count": 17,
   "metadata": {},
   "outputs": [
    {
     "data": {
      "text/plain": [
       "\" If you want to be happy, be\"🤗🥰🤗\\n\\n#behappy #actressbrindha #brindharajeshwari #actressbrindha #missindia… https://t.co/FH07CNpWfS                1\n",
       "\"#Bitcoin is about to close it's third consecutive daily candle for the first time in almost 3 months...\"\\n\\nFULL ANA… https://t.co/SkIvPExcM0      1\n",
       "\"#Cryptocurrency is the future of how we shop, invest, and do business, but it can also be incredibly technical and… https://t.co/P6eTD9h7jK        1\n",
       "\"#Life isn't about finding yourself, it's about creating yourself\"  🙏                                                                               1\n",
       "\"A Place Where Even Dreams Believe...\" 😊\\n.\\n.\\n#CastMe #iAct #iTeach #CombatVeteran #ArmyStrong #IAmAnActor… https://t.co/BxlbKfI77K               1\n",
       "                                                                                                                                                   ..\n",
       "🧑🏻🧒🏻🧒🏻🏵✴️\\n.\\n.\\n👉@alextaylor13art👈 on IG\\n.\\n.\\n.\\n.\\n.\\n#manga #anime #art #ArtistOnTwitter #animestyle #mangadrawing… https://t.co/MOeqgd7vrO    1\n",
       "🧘‍♀️💨🍪.........When I’m under stress, I do yoga. It’s when I’m happiest that I have a problem with junk food.......… https://t.co/95JasIEN0t        1\n",
       "🧡Hey, this looks amazing, doesn't it?🧡\\n#phone #mobilephone #phonecases #photos #IOS #Apple #everydaylife… https://t.co/bwVam3MAiq                  1\n",
       "🧰 Find a Decorative Way to Grow your Plants by Building a Wooden Wishing Well 🔨 https://t.co/l7KF5OZzhP… https://t.co/MOspAdHz7g                    1\n",
       "🧿 💚 💖 #weekend Dinner with this gorgeous #girl  @mvadera https://t.co/7zBpzIunnE                                                                    1\n",
       "Name: text, Length: 9945, dtype: int64"
      ]
     },
     "execution_count": 17,
     "metadata": {},
     "output_type": "execute_result"
    }
   ],
   "source": [
    "get_frequent_elements(df,'text',15000)"
   ]
  },
  {
   "cell_type": "code",
   "execution_count": 19,
   "metadata": {},
   "outputs": [
    {
     "data": {
      "text/plain": [
       "0        RT @GangWaveSquidda: My boy would've been 25 t...\n",
       "1        Had a great day at the zoo with my son Jack! H...\n",
       "2        RT @WillowAssist: Thanks @edjlazar for the Ret...\n",
       "3        #Now playing on @Glams_Radio : #Surrender (Ori...\n",
       "4        Forever Hearts Red on White Mug\\n#romantic #mu...\n",
       "                               ...                        \n",
       "12963    #India continues to report daily #Corona cases...\n",
       "12964    Good news! #Pfizer gears up to supply 1 billio...\n",
       "12965    Victoria’s police union has joined forced with...\n",
       "12966    Respected @narendramodi Jee.\\nForm a special t...\n",
       "12967    #India \\n\\nNew #Corona cases in the last 24 hr...\n",
       "Name: text, Length: 12968, dtype: object"
      ]
     },
     "execution_count": 19,
     "metadata": {},
     "output_type": "execute_result"
    }
   ],
   "source": []
  },
  {
   "cell_type": "code",
   "execution_count": null,
   "metadata": {},
   "outputs": [],
   "source": []
  }
 ],
 "metadata": {
  "kernelspec": {
   "display_name": "Python 3",
   "language": "python",
   "name": "python3"
  },
  "language_info": {
   "codemirror_mode": {
    "name": "ipython",
    "version": 3
   },
   "file_extension": ".py",
   "mimetype": "text/x-python",
   "name": "python",
   "nbconvert_exporter": "python",
   "pygments_lexer": "ipython3",
   "version": "3.8.5"
  }
 },
 "nbformat": 4,
 "nbformat_minor": 4
}

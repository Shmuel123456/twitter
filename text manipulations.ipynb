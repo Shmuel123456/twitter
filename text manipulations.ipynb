{
 "cells": [
  {
   "cell_type": "code",
   "execution_count": 129,
   "metadata": {},
   "outputs": [],
   "source": [
    "import pandas as pd\n",
    "import numpy as np\n",
    "import nltk\n",
    "\n",
    "from sklearn.feature_extraction.text import CountVectorizer\n",
    "from sklearn.linear_model import SGDClassifier\n",
    "from sklearn.datasets import load_files \n",
    "\n",
    "from sklearn import preprocessing\n",
    "from sklearn import metrics\n",
    "\n",
    "from sklearn.datasets import fetch_20newsgroups\n",
    "from sklearn.preprocessing import StandardScaler, MinMaxScaler\n",
    "from sklearn.naive_bayes import MultinomialNB\n",
    "from sklearn.pipeline import Pipeline\n",
    "from sklearn.linear_model import LogisticRegression\n",
    "import matplotlib.pyplot as plt\n",
    "from PIL import Image\n",
    "\n",
    "from sklearn.model_selection import train_test_split\n",
    "from sklearn.naive_bayes import GaussianNB\n",
    "\n",
    "from matplotlib.colors import ListedColormap\n",
    "%matplotlib inline\n",
    "#from wordcloud import WordCloud\n",
    "\n",
    "from sklearn.datasets import make_classification\n",
    "from sklearn.pipeline import make_pipeline\n",
    "# sklearn imports\n",
    "from sklearn import linear_model\n",
    "\n",
    "# helper for logistic regression explanations\n",
    "from scipy.special import expit\n",
    "from scipy.special import logit\n",
    "\n",
    "# visualization libraries \n",
    "plt.rcParams['figure.figsize'] = (10, 6)\n",
    "\n",
    "from mpl_toolkits.mplot3d import Axes3D\n",
    "from matplotlib import cm"
   ]
  },
  {
   "cell_type": "code",
   "execution_count": 9,
   "metadata": {},
   "outputs": [
    {
     "data": {
      "text/html": [
       "<div>\n",
       "<style scoped>\n",
       "    .dataframe tbody tr th:only-of-type {\n",
       "        vertical-align: middle;\n",
       "    }\n",
       "\n",
       "    .dataframe tbody tr th {\n",
       "        vertical-align: top;\n",
       "    }\n",
       "\n",
       "    .dataframe thead th {\n",
       "        text-align: right;\n",
       "    }\n",
       "</style>\n",
       "<table border=\"1\" class=\"dataframe\">\n",
       "  <thead>\n",
       "    <tr style=\"text-align: right;\">\n",
       "      <th></th>\n",
       "      <th>id</th>\n",
       "      <th>user name</th>\n",
       "      <th>text</th>\n",
       "      <th>time stamps</th>\n",
       "      <th>retweets</th>\n",
       "    </tr>\n",
       "  </thead>\n",
       "  <tbody>\n",
       "    <tr>\n",
       "      <th>1</th>\n",
       "      <td>1408213280213147904</td>\n",
       "      <td>DivineSoul_</td>\n",
       "      <td>RT @GangWaveSquidda: My boy would've been 25 t...</td>\n",
       "      <td>2021-06-24 23:59:43</td>\n",
       "      <td>0</td>\n",
       "    </tr>\n",
       "    <tr>\n",
       "      <th>2</th>\n",
       "      <td>1408213265490924032</td>\n",
       "      <td>ElleStonewood</td>\n",
       "      <td>Had a great day at the zoo with my son Jack! H...</td>\n",
       "      <td>2021-06-24 23:59:40</td>\n",
       "      <td>1</td>\n",
       "    </tr>\n",
       "    <tr>\n",
       "      <th>3</th>\n",
       "      <td>1408213203859886080</td>\n",
       "      <td>edjlazar</td>\n",
       "      <td>RT @WillowAssist: Thanks @edjlazar for the Ret...</td>\n",
       "      <td>2021-06-24 23:59:25</td>\n",
       "      <td>0</td>\n",
       "    </tr>\n",
       "    <tr>\n",
       "      <th>4</th>\n",
       "      <td>1408213169860976896</td>\n",
       "      <td>Glams_Radio</td>\n",
       "      <td>#Now playing on @Glams_Radio : #Surrender (Ori...</td>\n",
       "      <td>2021-06-24 23:59:17</td>\n",
       "      <td>0</td>\n",
       "    </tr>\n",
       "    <tr>\n",
       "      <th>5</th>\n",
       "      <td>1408213108452101888</td>\n",
       "      <td>LeeHillerLondon</td>\n",
       "      <td>Forever Hearts Red on White Mug\\n#romantic #mu...</td>\n",
       "      <td>2021-06-24 23:59:03</td>\n",
       "      <td>0</td>\n",
       "    </tr>\n",
       "    <tr>\n",
       "      <th>...</th>\n",
       "      <td>...</td>\n",
       "      <td>...</td>\n",
       "      <td>...</td>\n",
       "      <td>...</td>\n",
       "      <td>...</td>\n",
       "    </tr>\n",
       "    <tr>\n",
       "      <th>15105</th>\n",
       "      <td>1406823578176131072</td>\n",
       "      <td>rameshlaus</td>\n",
       "      <td>#India continues to report daily #Corona cases...</td>\n",
       "      <td>2021-06-21 03:57:33</td>\n",
       "      <td>17</td>\n",
       "    </tr>\n",
       "    <tr>\n",
       "      <th>15106</th>\n",
       "      <td>1407589145141075968</td>\n",
       "      <td>dna</td>\n",
       "      <td>Good news! #Pfizer gears up to supply 1 billio...</td>\n",
       "      <td>2021-06-23 06:39:38</td>\n",
       "      <td>20</td>\n",
       "    </tr>\n",
       "    <tr>\n",
       "      <th>15107</th>\n",
       "      <td>1407217032865660928</td>\n",
       "      <td>theage</td>\n",
       "      <td>Victoria’s police union has joined forced with...</td>\n",
       "      <td>2021-06-22 06:01:00</td>\n",
       "      <td>19</td>\n",
       "    </tr>\n",
       "    <tr>\n",
       "      <th>15108</th>\n",
       "      <td>1405549794240646912</td>\n",
       "      <td>jitupatwari</td>\n",
       "      <td>Respected @narendramodi Jee.\\nForm a special t...</td>\n",
       "      <td>2021-06-17 15:35:59</td>\n",
       "      <td>20</td>\n",
       "    </tr>\n",
       "    <tr>\n",
       "      <th>15109</th>\n",
       "      <td>1405740772947676928</td>\n",
       "      <td>rameshlaus</td>\n",
       "      <td>#India \\n\\nNew #Corona cases in the last 24 hr...</td>\n",
       "      <td>2021-06-18 04:14:52</td>\n",
       "      <td>20</td>\n",
       "    </tr>\n",
       "  </tbody>\n",
       "</table>\n",
       "<p>12968 rows × 5 columns</p>\n",
       "</div>"
      ],
      "text/plain": [
       "                        id        user name  \\\n",
       "1      1408213280213147904      DivineSoul_   \n",
       "2      1408213265490924032    ElleStonewood   \n",
       "3      1408213203859886080         edjlazar   \n",
       "4      1408213169860976896      Glams_Radio   \n",
       "5      1408213108452101888  LeeHillerLondon   \n",
       "...                    ...              ...   \n",
       "15105  1406823578176131072       rameshlaus   \n",
       "15106  1407589145141075968              dna   \n",
       "15107  1407217032865660928           theage   \n",
       "15108  1405549794240646912      jitupatwari   \n",
       "15109  1405740772947676928       rameshlaus   \n",
       "\n",
       "                                                    text         time stamps  \\\n",
       "1      RT @GangWaveSquidda: My boy would've been 25 t... 2021-06-24 23:59:43   \n",
       "2      Had a great day at the zoo with my son Jack! H... 2021-06-24 23:59:40   \n",
       "3      RT @WillowAssist: Thanks @edjlazar for the Ret... 2021-06-24 23:59:25   \n",
       "4      #Now playing on @Glams_Radio : #Surrender (Ori... 2021-06-24 23:59:17   \n",
       "5      Forever Hearts Red on White Mug\\n#romantic #mu... 2021-06-24 23:59:03   \n",
       "...                                                  ...                 ...   \n",
       "15105  #India continues to report daily #Corona cases... 2021-06-21 03:57:33   \n",
       "15106  Good news! #Pfizer gears up to supply 1 billio... 2021-06-23 06:39:38   \n",
       "15107  Victoria’s police union has joined forced with... 2021-06-22 06:01:00   \n",
       "15108  Respected @narendramodi Jee.\\nForm a special t... 2021-06-17 15:35:59   \n",
       "15109  #India \\n\\nNew #Corona cases in the last 24 hr... 2021-06-18 04:14:52   \n",
       "\n",
       "       retweets  \n",
       "1             0  \n",
       "2             1  \n",
       "3             0  \n",
       "4             0  \n",
       "5             0  \n",
       "...         ...  \n",
       "15105        17  \n",
       "15106        20  \n",
       "15107        19  \n",
       "15108        20  \n",
       "15109        20  \n",
       "\n",
       "[12968 rows x 5 columns]"
      ]
     },
     "execution_count": 9,
     "metadata": {},
     "output_type": "execute_result"
    }
   ],
   "source": [
    "df = pd.read_excel(r'AllTagsReady.xlsx', index_col=0)\n",
    "df"
   ]
  },
  {
   "cell_type": "code",
   "execution_count": 10,
   "metadata": {},
   "outputs": [
    {
     "data": {
      "text/html": [
       "<div>\n",
       "<style scoped>\n",
       "    .dataframe tbody tr th:only-of-type {\n",
       "        vertical-align: middle;\n",
       "    }\n",
       "\n",
       "    .dataframe tbody tr th {\n",
       "        vertical-align: top;\n",
       "    }\n",
       "\n",
       "    .dataframe thead th {\n",
       "        text-align: right;\n",
       "    }\n",
       "</style>\n",
       "<table border=\"1\" class=\"dataframe\">\n",
       "  <thead>\n",
       "    <tr style=\"text-align: right;\">\n",
       "      <th></th>\n",
       "      <th>text</th>\n",
       "      <th>retweeted</th>\n",
       "    </tr>\n",
       "  </thead>\n",
       "  <tbody>\n",
       "    <tr>\n",
       "      <th>1</th>\n",
       "      <td>RT @GangWaveSquidda: My boy would've been 25 t...</td>\n",
       "      <td>False</td>\n",
       "    </tr>\n",
       "    <tr>\n",
       "      <th>2</th>\n",
       "      <td>Had a great day at the zoo with my son Jack! H...</td>\n",
       "      <td>True</td>\n",
       "    </tr>\n",
       "    <tr>\n",
       "      <th>3</th>\n",
       "      <td>RT @WillowAssist: Thanks @edjlazar for the Ret...</td>\n",
       "      <td>False</td>\n",
       "    </tr>\n",
       "    <tr>\n",
       "      <th>4</th>\n",
       "      <td>#Now playing on @Glams_Radio : #Surrender (Ori...</td>\n",
       "      <td>False</td>\n",
       "    </tr>\n",
       "    <tr>\n",
       "      <th>5</th>\n",
       "      <td>Forever Hearts Red on White Mug\\n#romantic #mu...</td>\n",
       "      <td>False</td>\n",
       "    </tr>\n",
       "    <tr>\n",
       "      <th>...</th>\n",
       "      <td>...</td>\n",
       "      <td>...</td>\n",
       "    </tr>\n",
       "    <tr>\n",
       "      <th>15105</th>\n",
       "      <td>#India continues to report daily #Corona cases...</td>\n",
       "      <td>True</td>\n",
       "    </tr>\n",
       "    <tr>\n",
       "      <th>15106</th>\n",
       "      <td>Good news! #Pfizer gears up to supply 1 billio...</td>\n",
       "      <td>True</td>\n",
       "    </tr>\n",
       "    <tr>\n",
       "      <th>15107</th>\n",
       "      <td>Victoria’s police union has joined forced with...</td>\n",
       "      <td>True</td>\n",
       "    </tr>\n",
       "    <tr>\n",
       "      <th>15108</th>\n",
       "      <td>Respected @narendramodi Jee.\\nForm a special t...</td>\n",
       "      <td>True</td>\n",
       "    </tr>\n",
       "    <tr>\n",
       "      <th>15109</th>\n",
       "      <td>#India \\n\\nNew #Corona cases in the last 24 hr...</td>\n",
       "      <td>True</td>\n",
       "    </tr>\n",
       "  </tbody>\n",
       "</table>\n",
       "<p>12968 rows × 2 columns</p>\n",
       "</div>"
      ],
      "text/plain": [
       "                                                    text  retweeted\n",
       "1      RT @GangWaveSquidda: My boy would've been 25 t...      False\n",
       "2      Had a great day at the zoo with my son Jack! H...       True\n",
       "3      RT @WillowAssist: Thanks @edjlazar for the Ret...      False\n",
       "4      #Now playing on @Glams_Radio : #Surrender (Ori...      False\n",
       "5      Forever Hearts Red on White Mug\\n#romantic #mu...      False\n",
       "...                                                  ...        ...\n",
       "15105  #India continues to report daily #Corona cases...       True\n",
       "15106  Good news! #Pfizer gears up to supply 1 billio...       True\n",
       "15107  Victoria’s police union has joined forced with...       True\n",
       "15108  Respected @narendramodi Jee.\\nForm a special t...       True\n",
       "15109  #India \\n\\nNew #Corona cases in the last 24 hr...       True\n",
       "\n",
       "[12968 rows x 2 columns]"
      ]
     },
     "execution_count": 10,
     "metadata": {},
     "output_type": "execute_result"
    }
   ],
   "source": [
    "df1=pd.DataFrame({\"text\":df['text'],\"retweeted\":df['retweets']>0})\n",
    "df1"
   ]
  },
  {
   "cell_type": "code",
   "execution_count": 19,
   "metadata": {},
   "outputs": [
    {
     "name": "stdout",
     "output_type": "stream",
     "text": [
      "RT @GangWaveSquidda: My boy would've been 25 today.. Damn time flies. But continue to watch over us lil cuz, we miss and love you. Tell Gra…\n",
      "RT @WillowAssist: Thanks @edjlazar for the Retweet 💚 how about learning how to find a balance between giving and receiving love ♥ https://t…\n",
      "#Now playing on @Glams_Radio : #Surrender (Original Mix) by #Echolalia! Tune in now and enjoy sound of #DeepHouse #Love #Music\n",
      "Forever Hearts Red on White Mug\n",
      "#romantic #mug #Mugs #hearts #gifts #anniversary #wedding #Valentine #Love… https://t.co/F1ClP9SUOl\n",
      "Finishing up my look at the Shang-Chi wave with the Mr. Hyde BAF. Do you have him? If so, what do you think?… https://t.co/gBr7uZfYiz\n",
      "RT @KariJoys: Every day is perfect for #Love #Joy &amp; #Gratitude! \n",
      "\n",
      "#JoyTrain #Peace #Kindness  #MentalHealth #Quote #Mindfulness #GoldenHear…\n",
      "RT @jayemo2u: Positivity. God. Love. Happiness. I'll Always Go 100 💯💜 #MostAmazingForEternity #DIAGEMS #DUBBLE #GOD #LOVE\n",
      "RT @nikahnama: ⁠\"When you look at me, what do you see?\"⁠\n",
      "I see a beautiful woman who loves her Lord and who isn't afraid to show it 💕⁠\n",
      "\n",
      "#lo…\n",
      "RT @vishala_ma: People speak of attachment, liking, and love. All these are valid only as long as a sense of possession exists.\n",
      "🌟SPH JGM HD…\n",
      "RT @BerniceKing: BE LOVE DAY is July 16th!\n",
      "\n",
      "A day focused on making #Love the in thing every day.\n",
      "\n",
      "A day emphasizing the revolutionary powe…\n",
      "#Now playing on @Glams_Radio : #Mind (Original Mix) by #Heaven &amp; MATE ORIGINAL! Tune in now and enjoy sound of #DeepHouse #Love #Music\n",
      "RT @NithyaVedananda: The extraordinary powerful existence of Paramashiva in His avyakta (unmanifest) - remains as Paramashiva. In His manif…\n",
      "RT @NithyaVedananda: The breathing - that goes into you and comes out - in this body you are carrying, and in the body you are carrying in…\n",
      "RT @Swan827: Be thankful , joyful and prayerful.\n",
      "\n",
      "#love #joy #peace #happiness #thankful #gratitude #selflove https://t.co/HxTVOqFtBs\n",
      "RT @CHRISTLORD: Heaven, where there are no entanglements.\n",
      "Prepare for it. \n",
      "\n",
      "#Heaven #Truth #Love #Light #spin #ascension \n",
      "#thursdaymorning…\n",
      "Nobody can describe the picture\n",
      "Against his windowpane\n",
      "He did press his face\n",
      "And hopes that she leaves the light on… https://t.co/0rDepOFrtP\n",
      "The worst evil which can befall the artist is that his work should appear good in his own eyes. - Leonardo Davinci… https://t.co/2Z7k0WRkeR\n",
      "RT @Suzanneromance: ❤️❤️❤️❤️ Cowboys, cowgirls, rodeos, aliens, female bounty hunters. And more! The phenomenal Cowboy Desire Anthology is…\n",
      "Hallo Twitter world🌹\n",
      "Have great day #Earth #orbit #loveearth ✌🏾😍🌏 #GoodForYou \n",
      "#HappinessBegins #goodfortheworld… https://t.co/61srQ1vz8d\n",
      "Just look, that`s outstanding!#canvaspainting #modernart #love #tagwagai #artwork #paintings #artist #creative https://t.co/mI0UAC1OET\n"
     ]
    }
   ],
   "source": [
    "# look on sample data\n",
    "l=np.where(df['retweets']==0)[0].tolist()\n",
    "\n",
    "for i in l[:20]:\n",
    "    print(df['text'].iloc[i])"
   ]
  },
  {
   "cell_type": "code",
   "execution_count": 16,
   "metadata": {},
   "outputs": [],
   "source": [
    "df1[\"id\"]=df1.index\n",
    "trainDf=df1[df1[\"id\"]%5!=0]\n",
    "testDf=df1[df1[\"id\"]%5==0]"
   ]
  },
  {
   "cell_type": "code",
   "execution_count": 28,
   "metadata": {},
   "outputs": [
    {
     "data": {
      "text/plain": [
       "(12968, 10000)"
      ]
     },
     "execution_count": 28,
     "metadata": {},
     "output_type": "execute_result"
    }
   ],
   "source": [
    "count_vect = CountVectorizer(stop_words=\"english\",max_features=10000)\n",
    "X_tweet_counts = count_vect.fit_transform(df['text'])\n",
    "X_tweet_counts.shape"
   ]
  },
  {
   "cell_type": "code",
   "execution_count": 29,
   "metadata": {},
   "outputs": [],
   "source": [
    "X_tweet_normalized = preprocessing.normalize(X_tweet_counts, norm='l1')"
   ]
  },
  {
   "cell_type": "code",
   "execution_count": 30,
   "metadata": {},
   "outputs": [],
   "source": [
    "clf = MultinomialNB().fit(X_tweet_normalized, df1['retweeted'])"
   ]
  },
  {
   "cell_type": "code",
   "execution_count": 32,
   "metadata": {},
   "outputs": [],
   "source": [
    "clf = MultinomialNB().fit(X_tweet_normalized, df1['retweeted'])"
   ]
  },
  {
   "cell_type": "code",
   "execution_count": 33,
   "metadata": {},
   "outputs": [],
   "source": [
    "text_clf_nb = Pipeline([\n",
    "    ('vect', CountVectorizer(stop_words=\"english\",max_features=10000)),\n",
    "    ('norm', preprocessing.Normalizer(norm='l1')),\n",
    "    ('clf', MultinomialNB()),\n",
    "])"
   ]
  },
  {
   "cell_type": "code",
   "execution_count": 34,
   "metadata": {},
   "outputs": [
    {
     "data": {
      "text/plain": [
       "Pipeline(steps=[('vect',\n",
       "                 CountVectorizer(max_features=10000, stop_words='english')),\n",
       "                ('norm', Normalizer(norm='l1')), ('clf', MultinomialNB())])"
      ]
     },
     "execution_count": 34,
     "metadata": {},
     "output_type": "execute_result"
    }
   ],
   "source": [
    "text_clf_nb.fit(df1['text'], df1['retweeted'])"
   ]
  },
  {
   "cell_type": "code",
   "execution_count": 39,
   "metadata": {},
   "outputs": [
    {
     "data": {
      "text/plain": [
       "0.8"
      ]
     },
     "execution_count": 39,
     "metadata": {},
     "output_type": "execute_result"
    }
   ],
   "source": [
    "twenty_test = df1[:20]\n",
    "docs_test = twenty_test['text']\n",
    "predicted = text_clf_nb.predict(docs_test)\n",
    "np.mean(predicted == twenty_test['retweeted'])"
   ]
  },
  {
   "cell_type": "code",
   "execution_count": 52,
   "metadata": {},
   "outputs": [
    {
     "name": "stdout",
     "output_type": "stream",
     "text": [
      "               precision    recall  f1-score   support\n",
      "\n",
      "not retweeted       0.80      1.00      0.89        16\n",
      "    retweeted       0.00      0.00      0.00         4\n",
      "\n",
      "     accuracy                           0.80        20\n",
      "    macro avg       0.40      0.50      0.44        20\n",
      " weighted avg       0.64      0.80      0.71        20\n",
      "\n"
     ]
    }
   ],
   "source": [
    "print(metrics.classification_report(twenty_test['retweeted'], predicted,\n",
    "    target_names=['not retweeted','retweeted']))"
   ]
  },
  {
   "cell_type": "code",
   "execution_count": 49,
   "metadata": {},
   "outputs": [
    {
     "data": {
      "text/plain": [
       "array([False, False])"
      ]
     },
     "execution_count": 49,
     "metadata": {},
     "output_type": "execute_result"
    }
   ],
   "source": [
    "text_clf_nb.predict(['retweet for price #retweet #win #price','hello'])"
   ]
  },
  {
   "cell_type": "code",
   "execution_count": 55,
   "metadata": {},
   "outputs": [],
   "source": [
    "lines = []\n",
    "for line in df['text']:\n",
    "    line = line.strip().lower()\n",
    "    #line = line.decode('ascii', 'ignore')\n",
    "    if len(line)==0:\n",
    "        continue\n",
    "    lines.append(line)\n",
    "text = \" \".join(lines)"
   ]
  },
  {
   "cell_type": "code",
   "execution_count": 56,
   "metadata": {},
   "outputs": [],
   "source": [
    "vectorizer=CountVectorizer(stop_words=\"english\")\n",
    "freq_vec=vectorizer.fit_transform([text]).toarray() # the function requires as input an array of docs..\n",
    "freqDist=dict(zip(vectorizer.get_feature_names(),freq_vec[0])) # create a dictionary from the first (and only) row\n",
    "freqDist=dict(sorted(freqDist.items(), key=lambda item: item[1],reverse=True)) # ascending sort..\n",
    "#freqDist"
   ]
  },
  {
   "cell_type": "code",
   "execution_count": 57,
   "metadata": {},
   "outputs": [
    {
     "data": {
      "image/png": "[encoded data removed]",
      "text/plain": [
       "<Figure size 432x288 with 1 Axes>"
      ]
     },
     "metadata": {
      "needs_background": "light"
     },
     "output_type": "display_data"
    }
   ],
   "source": [
    "topK=20\n",
    "plt.bar(list(freqDist.keys())[:topK], list(freqDist.values())[:topK])\n",
    "plt.xticks(list(freqDist.keys())[:topK], rotation='vertical')\n",
    "plt.show()"
   ]
  },
  {
   "cell_type": "code",
   "execution_count": 72,
   "metadata": {},
   "outputs": [],
   "source": [
    "dfRetw = df.copy()\n",
    "for ind in df.index:\n",
    "    #print(ind)\n",
    "    if (df['retweets'][ind]==0):\n",
    "        dfRetw = dfRetw.drop([ind])\n",
    "#dfRetw"
   ]
  },
  {
   "cell_type": "code",
   "execution_count": 73,
   "metadata": {},
   "outputs": [
    {
     "data": {
      "text/html": [
       "<div>\n",
       "<style scoped>\n",
       "    .dataframe tbody tr th:only-of-type {\n",
       "        vertical-align: middle;\n",
       "    }\n",
       "\n",
       "    .dataframe tbody tr th {\n",
       "        vertical-align: top;\n",
       "    }\n",
       "\n",
       "    .dataframe thead th {\n",
       "        text-align: right;\n",
       "    }\n",
       "</style>\n",
       "<table border=\"1\" class=\"dataframe\">\n",
       "  <thead>\n",
       "    <tr style=\"text-align: right;\">\n",
       "      <th></th>\n",
       "      <th>id</th>\n",
       "      <th>user name</th>\n",
       "      <th>text</th>\n",
       "      <th>time stamps</th>\n",
       "      <th>retweets</th>\n",
       "    </tr>\n",
       "  </thead>\n",
       "  <tbody>\n",
       "    <tr>\n",
       "      <th>2</th>\n",
       "      <td>1408213265490924032</td>\n",
       "      <td>ElleStonewood</td>\n",
       "      <td>Had a great day at the zoo with my son Jack! H...</td>\n",
       "      <td>2021-06-24 23:59:40</td>\n",
       "      <td>1</td>\n",
       "    </tr>\n",
       "    <tr>\n",
       "      <th>18</th>\n",
       "      <td>1408212601885037056</td>\n",
       "      <td>megpfeiffer</td>\n",
       "      <td>And ‘cause you like this one so much, “NEVER E...</td>\n",
       "      <td>2021-06-24 23:57:02</td>\n",
       "      <td>1</td>\n",
       "    </tr>\n",
       "    <tr>\n",
       "      <th>25</th>\n",
       "      <td>1408212248863162112</td>\n",
       "      <td>james_powell</td>\n",
       "      <td>Preaching or teaching based on FEAR is what is...</td>\n",
       "      <td>2021-06-24 23:55:38</td>\n",
       "      <td>1</td>\n",
       "    </tr>\n",
       "    <tr>\n",
       "      <th>28</th>\n",
       "      <td>1408212239077806080</td>\n",
       "      <td>jayemo2u</td>\n",
       "      <td>Positivity. God. Love. Happiness. I'll Always ...</td>\n",
       "      <td>2021-06-24 23:55:35</td>\n",
       "      <td>1</td>\n",
       "    </tr>\n",
       "    <tr>\n",
       "      <th>48</th>\n",
       "      <td>1408211616894684928</td>\n",
       "      <td>DawnellYJacobs</td>\n",
       "      <td>So, I sat her down to eat, and she asked for h...</td>\n",
       "      <td>2021-06-24 23:53:07</td>\n",
       "      <td>1</td>\n",
       "    </tr>\n",
       "    <tr>\n",
       "      <th>...</th>\n",
       "      <td>...</td>\n",
       "      <td>...</td>\n",
       "      <td>...</td>\n",
       "      <td>...</td>\n",
       "      <td>...</td>\n",
       "    </tr>\n",
       "    <tr>\n",
       "      <th>15105</th>\n",
       "      <td>1406823578176131072</td>\n",
       "      <td>rameshlaus</td>\n",
       "      <td>#India continues to report daily #Corona cases...</td>\n",
       "      <td>2021-06-21 03:57:33</td>\n",
       "      <td>17</td>\n",
       "    </tr>\n",
       "    <tr>\n",
       "      <th>15106</th>\n",
       "      <td>1407589145141075968</td>\n",
       "      <td>dna</td>\n",
       "      <td>Good news! #Pfizer gears up to supply 1 billio...</td>\n",
       "      <td>2021-06-23 06:39:38</td>\n",
       "      <td>20</td>\n",
       "    </tr>\n",
       "    <tr>\n",
       "      <th>15107</th>\n",
       "      <td>1407217032865660928</td>\n",
       "      <td>theage</td>\n",
       "      <td>Victoria’s police union has joined forced with...</td>\n",
       "      <td>2021-06-22 06:01:00</td>\n",
       "      <td>19</td>\n",
       "    </tr>\n",
       "    <tr>\n",
       "      <th>15108</th>\n",
       "      <td>1405549794240646912</td>\n",
       "      <td>jitupatwari</td>\n",
       "      <td>Respected @narendramodi Jee.\\nForm a special t...</td>\n",
       "      <td>2021-06-17 15:35:59</td>\n",
       "      <td>20</td>\n",
       "    </tr>\n",
       "    <tr>\n",
       "      <th>15109</th>\n",
       "      <td>1405740772947676928</td>\n",
       "      <td>rameshlaus</td>\n",
       "      <td>#India \\n\\nNew #Corona cases in the last 24 hr...</td>\n",
       "      <td>2021-06-18 04:14:52</td>\n",
       "      <td>20</td>\n",
       "    </tr>\n",
       "  </tbody>\n",
       "</table>\n",
       "<p>1315 rows × 5 columns</p>\n",
       "</div>"
      ],
      "text/plain": [
       "                        id       user name  \\\n",
       "2      1408213265490924032   ElleStonewood   \n",
       "18     1408212601885037056     megpfeiffer   \n",
       "25     1408212248863162112    james_powell   \n",
       "28     1408212239077806080        jayemo2u   \n",
       "48     1408211616894684928  DawnellYJacobs   \n",
       "...                    ...             ...   \n",
       "15105  1406823578176131072      rameshlaus   \n",
       "15106  1407589145141075968             dna   \n",
       "15107  1407217032865660928          theage   \n",
       "15108  1405549794240646912     jitupatwari   \n",
       "15109  1405740772947676928      rameshlaus   \n",
       "\n",
       "                                                    text         time stamps  \\\n",
       "2      Had a great day at the zoo with my son Jack! H... 2021-06-24 23:59:40   \n",
       "18     And ‘cause you like this one so much, “NEVER E... 2021-06-24 23:57:02   \n",
       "25     Preaching or teaching based on FEAR is what is... 2021-06-24 23:55:38   \n",
       "28     Positivity. God. Love. Happiness. I'll Always ... 2021-06-24 23:55:35   \n",
       "48     So, I sat her down to eat, and she asked for h... 2021-06-24 23:53:07   \n",
       "...                                                  ...                 ...   \n",
       "15105  #India continues to report daily #Corona cases... 2021-06-21 03:57:33   \n",
       "15106  Good news! #Pfizer gears up to supply 1 billio... 2021-06-23 06:39:38   \n",
       "15107  Victoria’s police union has joined forced with... 2021-06-22 06:01:00   \n",
       "15108  Respected @narendramodi Jee.\\nForm a special t... 2021-06-17 15:35:59   \n",
       "15109  #India \\n\\nNew #Corona cases in the last 24 hr... 2021-06-18 04:14:52   \n",
       "\n",
       "       retweets  \n",
       "2             1  \n",
       "18            1  \n",
       "25            1  \n",
       "28            1  \n",
       "48            1  \n",
       "...         ...  \n",
       "15105        17  \n",
       "15106        20  \n",
       "15107        19  \n",
       "15108        20  \n",
       "15109        20  \n",
       "\n",
       "[1315 rows x 5 columns]"
      ]
     },
     "execution_count": 73,
     "metadata": {},
     "output_type": "execute_result"
    }
   ],
   "source": [
    "dfRetw"
   ]
  },
  {
   "cell_type": "code",
   "execution_count": 74,
   "metadata": {},
   "outputs": [],
   "source": [
    "lines = []\n",
    "for line in dfRetw['text']:\n",
    "    line = line.strip().lower()\n",
    "    #line = line.decode('ascii', 'ignore')\n",
    "    if len(line)==0:\n",
    "        continue\n",
    "    lines.append(line)\n",
    "text = \" \".join(lines)"
   ]
  },
  {
   "cell_type": "code",
   "execution_count": 75,
   "metadata": {},
   "outputs": [],
   "source": [
    "vectorizer=CountVectorizer(stop_words=\"english\")\n",
    "freq_vec=vectorizer.fit_transform([text]).toarray() # the function requires as input an array of docs..\n",
    "freqDist=dict(zip(vectorizer.get_feature_names(),freq_vec[0])) # create a dictionary from the first (and only) row\n",
    "freqDist=dict(sorted(freqDist.items(), key=lambda item: item[1],reverse=True)) # ascending sort..\n",
    "#freqDist"
   ]
  },
  {
   "cell_type": "code",
   "execution_count": 76,
   "metadata": {},
   "outputs": [
    {
     "data": {
      "image/png": "[encoded data removed]",
      "text/plain": [
       "<Figure size 432x288 with 1 Axes>"
      ]
     },
     "metadata": {
      "needs_background": "light"
     },
     "output_type": "display_data"
    }
   ],
   "source": [
    "topK=20\n",
    "plt.bar(list(freqDist.keys())[:topK], list(freqDist.values())[:topK])\n",
    "plt.xticks(list(freqDist.keys())[:topK], rotation='vertical')\n",
    "plt.show()"
   ]
  },
  {
   "cell_type": "code",
   "execution_count": 78,
   "metadata": {},
   "outputs": [
    {
     "data": {
      "text/html": [
       "<div>\n",
       "<style scoped>\n",
       "    .dataframe tbody tr th:only-of-type {\n",
       "        vertical-align: middle;\n",
       "    }\n",
       "\n",
       "    .dataframe tbody tr th {\n",
       "        vertical-align: top;\n",
       "    }\n",
       "\n",
       "    .dataframe thead th {\n",
       "        text-align: right;\n",
       "    }\n",
       "</style>\n",
       "<table border=\"1\" class=\"dataframe\">\n",
       "  <thead>\n",
       "    <tr style=\"text-align: right;\">\n",
       "      <th></th>\n",
       "      <th>id</th>\n",
       "      <th>user name</th>\n",
       "      <th>text</th>\n",
       "      <th>time stamps</th>\n",
       "      <th>retweets</th>\n",
       "    </tr>\n",
       "  </thead>\n",
       "  <tbody>\n",
       "    <tr>\n",
       "      <th>1263</th>\n",
       "      <td>1408207497404588032</td>\n",
       "      <td>RappCatsAdopt</td>\n",
       "      <td>Taylor's story: the farmer checked a groundhog...</td>\n",
       "      <td>2021-06-24 23:36:45</td>\n",
       "      <td>20</td>\n",
       "    </tr>\n",
       "    <tr>\n",
       "      <th>2465</th>\n",
       "      <td>1408168819168739072</td>\n",
       "      <td>BiswalAbhigyan</td>\n",
       "      <td>If ppl could read my mind they would go crazy....</td>\n",
       "      <td>2021-06-24 21:03:03</td>\n",
       "      <td>20</td>\n",
       "    </tr>\n",
       "    <tr>\n",
       "      <th>3482</th>\n",
       "      <td>1408197005323783936</td>\n",
       "      <td>Ranal55</td>\n",
       "      <td>When you run with the pack, you are hunted wit...</td>\n",
       "      <td>2021-06-24 22:55:03</td>\n",
       "      <td>20</td>\n",
       "    </tr>\n",
       "    <tr>\n",
       "      <th>3847</th>\n",
       "      <td>1408211845463351040</td>\n",
       "      <td>todaysbird</td>\n",
       "      <td>Great egret.\\n(Photo courtesy of @birdcrazed6)...</td>\n",
       "      <td>2021-06-24 23:54:01</td>\n",
       "      <td>20</td>\n",
       "    </tr>\n",
       "    <tr>\n",
       "      <th>7966</th>\n",
       "      <td>1408064949922897920</td>\n",
       "      <td>manukumarjain</td>\n",
       "      <td>Feeling loved to see this art made by our #MiF...</td>\n",
       "      <td>2021-06-24 14:10:19</td>\n",
       "      <td>20</td>\n",
       "    </tr>\n",
       "    <tr>\n",
       "      <th>...</th>\n",
       "      <td>...</td>\n",
       "      <td>...</td>\n",
       "      <td>...</td>\n",
       "      <td>...</td>\n",
       "      <td>...</td>\n",
       "    </tr>\n",
       "    <tr>\n",
       "      <th>15102</th>\n",
       "      <td>1406273911864454912</td>\n",
       "      <td>seethakkaMLA</td>\n",
       "      <td>Birthday gift to @RahulGandhi anna \\n🔥Travelle...</td>\n",
       "      <td>2021-06-19 15:33:22</td>\n",
       "      <td>20</td>\n",
       "    </tr>\n",
       "    <tr>\n",
       "      <th>15104</th>\n",
       "      <td>1406875146976076032</td>\n",
       "      <td>seethakkaMLA</td>\n",
       "      <td>Accept every desire that makes you strong, rej...</td>\n",
       "      <td>2021-06-21 07:22:28</td>\n",
       "      <td>20</td>\n",
       "    </tr>\n",
       "    <tr>\n",
       "      <th>15106</th>\n",
       "      <td>1407589145141075968</td>\n",
       "      <td>dna</td>\n",
       "      <td>Good news! #Pfizer gears up to supply 1 billio...</td>\n",
       "      <td>2021-06-23 06:39:38</td>\n",
       "      <td>20</td>\n",
       "    </tr>\n",
       "    <tr>\n",
       "      <th>15108</th>\n",
       "      <td>1405549794240646912</td>\n",
       "      <td>jitupatwari</td>\n",
       "      <td>Respected @narendramodi Jee.\\nForm a special t...</td>\n",
       "      <td>2021-06-17 15:35:59</td>\n",
       "      <td>20</td>\n",
       "    </tr>\n",
       "    <tr>\n",
       "      <th>15109</th>\n",
       "      <td>1405740772947676928</td>\n",
       "      <td>rameshlaus</td>\n",
       "      <td>#India \\n\\nNew #Corona cases in the last 24 hr...</td>\n",
       "      <td>2021-06-18 04:14:52</td>\n",
       "      <td>20</td>\n",
       "    </tr>\n",
       "  </tbody>\n",
       "</table>\n",
       "<p>200 rows × 5 columns</p>\n",
       "</div>"
      ],
      "text/plain": [
       "                        id       user name  \\\n",
       "1263   1408207497404588032   RappCatsAdopt   \n",
       "2465   1408168819168739072  BiswalAbhigyan   \n",
       "3482   1408197005323783936         Ranal55   \n",
       "3847   1408211845463351040      todaysbird   \n",
       "7966   1408064949922897920   manukumarjain   \n",
       "...                    ...             ...   \n",
       "15102  1406273911864454912    seethakkaMLA   \n",
       "15104  1406875146976076032    seethakkaMLA   \n",
       "15106  1407589145141075968             dna   \n",
       "15108  1405549794240646912     jitupatwari   \n",
       "15109  1405740772947676928      rameshlaus   \n",
       "\n",
       "                                                    text         time stamps  \\\n",
       "1263   Taylor's story: the farmer checked a groundhog... 2021-06-24 23:36:45   \n",
       "2465   If ppl could read my mind they would go crazy.... 2021-06-24 21:03:03   \n",
       "3482   When you run with the pack, you are hunted wit... 2021-06-24 22:55:03   \n",
       "3847   Great egret.\\n(Photo courtesy of @birdcrazed6)... 2021-06-24 23:54:01   \n",
       "7966   Feeling loved to see this art made by our #MiF... 2021-06-24 14:10:19   \n",
       "...                                                  ...                 ...   \n",
       "15102  Birthday gift to @RahulGandhi anna \\n🔥Travelle... 2021-06-19 15:33:22   \n",
       "15104  Accept every desire that makes you strong, rej... 2021-06-21 07:22:28   \n",
       "15106  Good news! #Pfizer gears up to supply 1 billio... 2021-06-23 06:39:38   \n",
       "15108  Respected @narendramodi Jee.\\nForm a special t... 2021-06-17 15:35:59   \n",
       "15109  #India \\n\\nNew #Corona cases in the last 24 hr... 2021-06-18 04:14:52   \n",
       "\n",
       "       retweets  \n",
       "1263         20  \n",
       "2465         20  \n",
       "3482         20  \n",
       "3847         20  \n",
       "7966         20  \n",
       "...         ...  \n",
       "15102        20  \n",
       "15104        20  \n",
       "15106        20  \n",
       "15108        20  \n",
       "15109        20  \n",
       "\n",
       "[200 rows x 5 columns]"
      ]
     },
     "execution_count": 78,
     "metadata": {},
     "output_type": "execute_result"
    }
   ],
   "source": [
    "for ind in df.index:\n",
    "    #print(ind)\n",
    "    if (df['retweets'][ind]!=0):\n",
    "        if(df['retweets'][ind]!=20):\n",
    "            dfRetw = dfRetw.drop([ind])\n",
    "dfRetw"
   ]
  },
  {
   "cell_type": "code",
   "execution_count": 79,
   "metadata": {},
   "outputs": [],
   "source": [
    "lines = []\n",
    "for line in dfRetw['text']:\n",
    "    line = line.strip().lower()\n",
    "    #line = line.decode('ascii', 'ignore')\n",
    "    if len(line)==0:\n",
    "        continue\n",
    "    lines.append(line)\n",
    "text = \" \".join(lines)"
   ]
  },
  {
   "cell_type": "code",
   "execution_count": 80,
   "metadata": {},
   "outputs": [],
   "source": [
    "vectorizer=CountVectorizer(stop_words=\"english\")\n",
    "freq_vec=vectorizer.fit_transform([text]).toarray() # the function requires as input an array of docs..\n",
    "freqDist=dict(zip(vectorizer.get_feature_names(),freq_vec[0])) # create a dictionary from the first (and only) row\n",
    "freqDist=dict(sorted(freqDist.items(), key=lambda item: item[1],reverse=True)) # ascending sort..\n",
    "#freqDist"
   ]
  },
  {
   "cell_type": "code",
   "execution_count": 81,
   "metadata": {},
   "outputs": [
    {
     "data": {
      "image/png": "[encoded data removed]",
      "text/plain": [
       "<Figure size 432x288 with 1 Axes>"
      ]
     },
     "metadata": {
      "needs_background": "light"
     },
     "output_type": "display_data"
    }
   ],
   "source": [
    "topK=20\n",
    "plt.bar(list(freqDist.keys())[:topK], list(freqDist.values())[:topK])\n",
    "plt.xticks(list(freqDist.keys())[:topK], rotation='vertical')\n",
    "plt.show()"
   ]
  },
  {
   "cell_type": "code",
   "execution_count": 82,
   "metadata": {},
   "outputs": [],
   "source": [
    "wordList1 = ['giveaway','crypto','enter','bitcoin','retweet','health','world','travel','tbt']\n",
    "wordlist0 = ['women','check','good','friends','fashion','life']"
   ]
  },
  {
   "cell_type": "code",
   "execution_count": 93,
   "metadata": {},
   "outputs": [
    {
     "data": {
      "text/html": [
       "<div>\n",
       "<style scoped>\n",
       "    .dataframe tbody tr th:only-of-type {\n",
       "        vertical-align: middle;\n",
       "    }\n",
       "\n",
       "    .dataframe tbody tr th {\n",
       "        vertical-align: top;\n",
       "    }\n",
       "\n",
       "    .dataframe thead th {\n",
       "        text-align: right;\n",
       "    }\n",
       "</style>\n",
       "<table border=\"1\" class=\"dataframe\">\n",
       "  <thead>\n",
       "    <tr style=\"text-align: right;\">\n",
       "      <th></th>\n",
       "      <th>id</th>\n",
       "      <th>giveaway</th>\n",
       "      <th>crypto</th>\n",
       "      <th>enter</th>\n",
       "      <th>bitcoin</th>\n",
       "      <th>retweet</th>\n",
       "      <th>health</th>\n",
       "      <th>world</th>\n",
       "      <th>travel</th>\n",
       "      <th>tbt</th>\n",
       "      <th>women</th>\n",
       "      <th>check</th>\n",
       "      <th>good</th>\n",
       "      <th>friends</th>\n",
       "      <th>fashion</th>\n",
       "      <th>life</th>\n",
       "    </tr>\n",
       "  </thead>\n",
       "  <tbody>\n",
       "    <tr>\n",
       "      <th>0</th>\n",
       "      <td>1408213280213147904</td>\n",
       "      <td>0</td>\n",
       "      <td>0</td>\n",
       "      <td>0</td>\n",
       "      <td>0</td>\n",
       "      <td>0</td>\n",
       "      <td>0</td>\n",
       "      <td>0</td>\n",
       "      <td>0</td>\n",
       "      <td>0</td>\n",
       "      <td>0</td>\n",
       "      <td>0</td>\n",
       "      <td>0</td>\n",
       "      <td>0</td>\n",
       "      <td>0</td>\n",
       "      <td>0</td>\n",
       "    </tr>\n",
       "    <tr>\n",
       "      <th>1</th>\n",
       "      <td>1408213265490924032</td>\n",
       "      <td>0</td>\n",
       "      <td>0</td>\n",
       "      <td>0</td>\n",
       "      <td>0</td>\n",
       "      <td>0</td>\n",
       "      <td>0</td>\n",
       "      <td>0</td>\n",
       "      <td>0</td>\n",
       "      <td>0</td>\n",
       "      <td>0</td>\n",
       "      <td>0</td>\n",
       "      <td>0</td>\n",
       "      <td>0</td>\n",
       "      <td>0</td>\n",
       "      <td>0</td>\n",
       "    </tr>\n",
       "    <tr>\n",
       "      <th>2</th>\n",
       "      <td>1408213203859886080</td>\n",
       "      <td>0</td>\n",
       "      <td>0</td>\n",
       "      <td>0</td>\n",
       "      <td>0</td>\n",
       "      <td>1</td>\n",
       "      <td>0</td>\n",
       "      <td>0</td>\n",
       "      <td>0</td>\n",
       "      <td>0</td>\n",
       "      <td>0</td>\n",
       "      <td>0</td>\n",
       "      <td>0</td>\n",
       "      <td>0</td>\n",
       "      <td>0</td>\n",
       "      <td>0</td>\n",
       "    </tr>\n",
       "    <tr>\n",
       "      <th>3</th>\n",
       "      <td>1408213169860976896</td>\n",
       "      <td>0</td>\n",
       "      <td>0</td>\n",
       "      <td>0</td>\n",
       "      <td>0</td>\n",
       "      <td>0</td>\n",
       "      <td>0</td>\n",
       "      <td>0</td>\n",
       "      <td>0</td>\n",
       "      <td>0</td>\n",
       "      <td>0</td>\n",
       "      <td>0</td>\n",
       "      <td>0</td>\n",
       "      <td>0</td>\n",
       "      <td>0</td>\n",
       "      <td>0</td>\n",
       "    </tr>\n",
       "    <tr>\n",
       "      <th>4</th>\n",
       "      <td>1408213108452101888</td>\n",
       "      <td>0</td>\n",
       "      <td>0</td>\n",
       "      <td>0</td>\n",
       "      <td>0</td>\n",
       "      <td>0</td>\n",
       "      <td>0</td>\n",
       "      <td>0</td>\n",
       "      <td>0</td>\n",
       "      <td>0</td>\n",
       "      <td>0</td>\n",
       "      <td>0</td>\n",
       "      <td>0</td>\n",
       "      <td>0</td>\n",
       "      <td>0</td>\n",
       "      <td>0</td>\n",
       "    </tr>\n",
       "    <tr>\n",
       "      <th>...</th>\n",
       "      <td>...</td>\n",
       "      <td>...</td>\n",
       "      <td>...</td>\n",
       "      <td>...</td>\n",
       "      <td>...</td>\n",
       "      <td>...</td>\n",
       "      <td>...</td>\n",
       "      <td>...</td>\n",
       "      <td>...</td>\n",
       "      <td>...</td>\n",
       "      <td>...</td>\n",
       "      <td>...</td>\n",
       "      <td>...</td>\n",
       "      <td>...</td>\n",
       "      <td>...</td>\n",
       "      <td>...</td>\n",
       "    </tr>\n",
       "    <tr>\n",
       "      <th>12963</th>\n",
       "      <td>1406823578176131072</td>\n",
       "      <td>0</td>\n",
       "      <td>0</td>\n",
       "      <td>0</td>\n",
       "      <td>0</td>\n",
       "      <td>0</td>\n",
       "      <td>0</td>\n",
       "      <td>0</td>\n",
       "      <td>0</td>\n",
       "      <td>0</td>\n",
       "      <td>0</td>\n",
       "      <td>0</td>\n",
       "      <td>0</td>\n",
       "      <td>0</td>\n",
       "      <td>0</td>\n",
       "      <td>0</td>\n",
       "    </tr>\n",
       "    <tr>\n",
       "      <th>12964</th>\n",
       "      <td>1407589145141075968</td>\n",
       "      <td>0</td>\n",
       "      <td>0</td>\n",
       "      <td>0</td>\n",
       "      <td>0</td>\n",
       "      <td>0</td>\n",
       "      <td>0</td>\n",
       "      <td>0</td>\n",
       "      <td>0</td>\n",
       "      <td>0</td>\n",
       "      <td>0</td>\n",
       "      <td>0</td>\n",
       "      <td>1</td>\n",
       "      <td>0</td>\n",
       "      <td>0</td>\n",
       "      <td>0</td>\n",
       "    </tr>\n",
       "    <tr>\n",
       "      <th>12965</th>\n",
       "      <td>1407217032865660928</td>\n",
       "      <td>0</td>\n",
       "      <td>0</td>\n",
       "      <td>0</td>\n",
       "      <td>0</td>\n",
       "      <td>0</td>\n",
       "      <td>0</td>\n",
       "      <td>0</td>\n",
       "      <td>0</td>\n",
       "      <td>0</td>\n",
       "      <td>0</td>\n",
       "      <td>0</td>\n",
       "      <td>0</td>\n",
       "      <td>0</td>\n",
       "      <td>0</td>\n",
       "      <td>0</td>\n",
       "    </tr>\n",
       "    <tr>\n",
       "      <th>12966</th>\n",
       "      <td>1405549794240646912</td>\n",
       "      <td>0</td>\n",
       "      <td>0</td>\n",
       "      <td>0</td>\n",
       "      <td>0</td>\n",
       "      <td>0</td>\n",
       "      <td>0</td>\n",
       "      <td>0</td>\n",
       "      <td>0</td>\n",
       "      <td>0</td>\n",
       "      <td>0</td>\n",
       "      <td>0</td>\n",
       "      <td>0</td>\n",
       "      <td>0</td>\n",
       "      <td>0</td>\n",
       "      <td>0</td>\n",
       "    </tr>\n",
       "    <tr>\n",
       "      <th>12967</th>\n",
       "      <td>1405740772947676928</td>\n",
       "      <td>0</td>\n",
       "      <td>0</td>\n",
       "      <td>0</td>\n",
       "      <td>0</td>\n",
       "      <td>0</td>\n",
       "      <td>0</td>\n",
       "      <td>0</td>\n",
       "      <td>0</td>\n",
       "      <td>0</td>\n",
       "      <td>0</td>\n",
       "      <td>0</td>\n",
       "      <td>0</td>\n",
       "      <td>0</td>\n",
       "      <td>0</td>\n",
       "      <td>0</td>\n",
       "    </tr>\n",
       "  </tbody>\n",
       "</table>\n",
       "<p>12968 rows × 16 columns</p>\n",
       "</div>"
      ],
      "text/plain": [
       "                        id  giveaway  crypto  enter  bitcoin  retweet  health  \\\n",
       "0      1408213280213147904         0       0      0        0        0       0   \n",
       "1      1408213265490924032         0       0      0        0        0       0   \n",
       "2      1408213203859886080         0       0      0        0        1       0   \n",
       "3      1408213169860976896         0       0      0        0        0       0   \n",
       "4      1408213108452101888         0       0      0        0        0       0   \n",
       "...                    ...       ...     ...    ...      ...      ...     ...   \n",
       "12963  1406823578176131072         0       0      0        0        0       0   \n",
       "12964  1407589145141075968         0       0      0        0        0       0   \n",
       "12965  1407217032865660928         0       0      0        0        0       0   \n",
       "12966  1405549794240646912         0       0      0        0        0       0   \n",
       "12967  1405740772947676928         0       0      0        0        0       0   \n",
       "\n",
       "       world  travel  tbt  women  check  good  friends  fashion  life  \n",
       "0          0       0    0      0      0     0        0        0     0  \n",
       "1          0       0    0      0      0     0        0        0     0  \n",
       "2          0       0    0      0      0     0        0        0     0  \n",
       "3          0       0    0      0      0     0        0        0     0  \n",
       "4          0       0    0      0      0     0        0        0     0  \n",
       "...      ...     ...  ...    ...    ...   ...      ...      ...   ...  \n",
       "12963      0       0    0      0      0     0        0        0     0  \n",
       "12964      0       0    0      0      0     1        0        0     0  \n",
       "12965      0       0    0      0      0     0        0        0     0  \n",
       "12966      0       0    0      0      0     0        0        0     0  \n",
       "12967      0       0    0      0      0     0        0        0     0  \n",
       "\n",
       "[12968 rows x 16 columns]"
      ]
     },
     "execution_count": 93,
     "metadata": {},
     "output_type": "execute_result"
    }
   ],
   "source": [
    "wordMatDf = pd.DataFrame({})\n",
    "for ind in df.index:\n",
    "    temp = pd.DataFrame({\n",
    "        'id':[df['id'][ind]],\n",
    "        'giveaway':[df['text'][ind].strip().lower().count('giveaway')],\n",
    "        'crypto':[df['text'][ind].strip().lower().count('crypto')],\n",
    "        'enter':[df['text'][ind].strip().lower().count('enter')],\n",
    "        'bitcoin':[df['text'][ind].strip().lower().count('bitcoin')],\n",
    "        'retweet':[df['text'][ind].strip().lower().count('retweet')],\n",
    "        'health':[df['text'][ind].strip().lower().count('health')],\n",
    "        'world':[df['text'][ind].strip().lower().count('world')],\n",
    "        'travel':[df['text'][ind].strip().lower().count('travel')],\n",
    "        'tbt':[df['text'][ind].strip().lower().count('tbt')],\n",
    "        'women':[df['text'][ind].strip().lower().count('women')],\n",
    "        'check':[df['text'][ind].strip().lower().count('check')],\n",
    "        'good':[df['text'][ind].strip().lower().count('good')],\n",
    "        'friends':[df['text'][ind].strip().lower().count('friends')],\n",
    "        'fashion':[df['text'][ind].strip().lower().count('fashion')],\n",
    "        'life':[df['text'][ind].strip().lower().count('life')],\n",
    "    })\n",
    "    frames = [wordMatDf,temp]\n",
    "    wordMatDf = pd.concat(frames, ignore_index=True)\n",
    "\n",
    "wordMatDf"
   ]
  },
  {
   "cell_type": "code",
   "execution_count": 94,
   "metadata": {},
   "outputs": [
    {
     "data": {
      "text/html": [
       "<div>\n",
       "<style scoped>\n",
       "    .dataframe tbody tr th:only-of-type {\n",
       "        vertical-align: middle;\n",
       "    }\n",
       "\n",
       "    .dataframe tbody tr th {\n",
       "        vertical-align: top;\n",
       "    }\n",
       "\n",
       "    .dataframe thead th {\n",
       "        text-align: right;\n",
       "    }\n",
       "</style>\n",
       "<table border=\"1\" class=\"dataframe\">\n",
       "  <thead>\n",
       "    <tr style=\"text-align: right;\">\n",
       "      <th></th>\n",
       "      <th>id</th>\n",
       "      <th>giveaway</th>\n",
       "      <th>crypto</th>\n",
       "      <th>enter</th>\n",
       "      <th>bitcoin</th>\n",
       "      <th>retweet</th>\n",
       "      <th>health</th>\n",
       "      <th>world</th>\n",
       "      <th>travel</th>\n",
       "      <th>tbt</th>\n",
       "      <th>women</th>\n",
       "      <th>check</th>\n",
       "      <th>good</th>\n",
       "      <th>friends</th>\n",
       "      <th>fashion</th>\n",
       "      <th>life</th>\n",
       "    </tr>\n",
       "  </thead>\n",
       "  <tbody>\n",
       "    <tr>\n",
       "      <th>count</th>\n",
       "      <td>1.296800e+04</td>\n",
       "      <td>12968.000000</td>\n",
       "      <td>12968.000000</td>\n",
       "      <td>12968.000000</td>\n",
       "      <td>12968.000000</td>\n",
       "      <td>12968.000000</td>\n",
       "      <td>12968.000000</td>\n",
       "      <td>12968.000000</td>\n",
       "      <td>12968.000000</td>\n",
       "      <td>12968.000000</td>\n",
       "      <td>12968.000000</td>\n",
       "      <td>12968.000000</td>\n",
       "      <td>12968.000000</td>\n",
       "      <td>12968.000000</td>\n",
       "      <td>12968.000000</td>\n",
       "      <td>12968.000000</td>\n",
       "    </tr>\n",
       "    <tr>\n",
       "      <th>mean</th>\n",
       "      <td>1.408038e+18</td>\n",
       "      <td>0.033544</td>\n",
       "      <td>0.046422</td>\n",
       "      <td>0.019124</td>\n",
       "      <td>0.006555</td>\n",
       "      <td>0.017273</td>\n",
       "      <td>0.052283</td>\n",
       "      <td>0.026604</td>\n",
       "      <td>0.040561</td>\n",
       "      <td>0.018276</td>\n",
       "      <td>0.073026</td>\n",
       "      <td>0.034007</td>\n",
       "      <td>0.054827</td>\n",
       "      <td>0.030074</td>\n",
       "      <td>0.039096</td>\n",
       "      <td>0.054287</td>\n",
       "    </tr>\n",
       "    <tr>\n",
       "      <th>std</th>\n",
       "      <td>3.999234e+14</td>\n",
       "      <td>0.202629</td>\n",
       "      <td>0.286459</td>\n",
       "      <td>0.140852</td>\n",
       "      <td>0.087131</td>\n",
       "      <td>0.141637</td>\n",
       "      <td>0.299424</td>\n",
       "      <td>0.165652</td>\n",
       "      <td>0.297630</td>\n",
       "      <td>0.135668</td>\n",
       "      <td>0.341003</td>\n",
       "      <td>0.182948</td>\n",
       "      <td>0.236621</td>\n",
       "      <td>0.185515</td>\n",
       "      <td>0.229198</td>\n",
       "      <td>0.259586</td>\n",
       "    </tr>\n",
       "    <tr>\n",
       "      <th>min</th>\n",
       "      <td>1.405532e+18</td>\n",
       "      <td>0.000000</td>\n",
       "      <td>0.000000</td>\n",
       "      <td>0.000000</td>\n",
       "      <td>0.000000</td>\n",
       "      <td>0.000000</td>\n",
       "      <td>0.000000</td>\n",
       "      <td>0.000000</td>\n",
       "      <td>0.000000</td>\n",
       "      <td>0.000000</td>\n",
       "      <td>0.000000</td>\n",
       "      <td>0.000000</td>\n",
       "      <td>0.000000</td>\n",
       "      <td>0.000000</td>\n",
       "      <td>0.000000</td>\n",
       "      <td>0.000000</td>\n",
       "    </tr>\n",
       "    <tr>\n",
       "      <th>25%</th>\n",
       "      <td>1.408083e+18</td>\n",
       "      <td>0.000000</td>\n",
       "      <td>0.000000</td>\n",
       "      <td>0.000000</td>\n",
       "      <td>0.000000</td>\n",
       "      <td>0.000000</td>\n",
       "      <td>0.000000</td>\n",
       "      <td>0.000000</td>\n",
       "      <td>0.000000</td>\n",
       "      <td>0.000000</td>\n",
       "      <td>0.000000</td>\n",
       "      <td>0.000000</td>\n",
       "      <td>0.000000</td>\n",
       "      <td>0.000000</td>\n",
       "      <td>0.000000</td>\n",
       "      <td>0.000000</td>\n",
       "    </tr>\n",
       "    <tr>\n",
       "      <th>50%</th>\n",
       "      <td>1.408187e+18</td>\n",
       "      <td>0.000000</td>\n",
       "      <td>0.000000</td>\n",
       "      <td>0.000000</td>\n",
       "      <td>0.000000</td>\n",
       "      <td>0.000000</td>\n",
       "      <td>0.000000</td>\n",
       "      <td>0.000000</td>\n",
       "      <td>0.000000</td>\n",
       "      <td>0.000000</td>\n",
       "      <td>0.000000</td>\n",
       "      <td>0.000000</td>\n",
       "      <td>0.000000</td>\n",
       "      <td>0.000000</td>\n",
       "      <td>0.000000</td>\n",
       "      <td>0.000000</td>\n",
       "    </tr>\n",
       "    <tr>\n",
       "      <th>75%</th>\n",
       "      <td>1.408206e+18</td>\n",
       "      <td>0.000000</td>\n",
       "      <td>0.000000</td>\n",
       "      <td>0.000000</td>\n",
       "      <td>0.000000</td>\n",
       "      <td>0.000000</td>\n",
       "      <td>0.000000</td>\n",
       "      <td>0.000000</td>\n",
       "      <td>0.000000</td>\n",
       "      <td>0.000000</td>\n",
       "      <td>0.000000</td>\n",
       "      <td>0.000000</td>\n",
       "      <td>0.000000</td>\n",
       "      <td>0.000000</td>\n",
       "      <td>0.000000</td>\n",
       "      <td>0.000000</td>\n",
       "    </tr>\n",
       "    <tr>\n",
       "      <th>max</th>\n",
       "      <td>1.408213e+18</td>\n",
       "      <td>4.000000</td>\n",
       "      <td>6.000000</td>\n",
       "      <td>2.000000</td>\n",
       "      <td>4.000000</td>\n",
       "      <td>4.000000</td>\n",
       "      <td>4.000000</td>\n",
       "      <td>2.000000</td>\n",
       "      <td>6.000000</td>\n",
       "      <td>2.000000</td>\n",
       "      <td>4.000000</td>\n",
       "      <td>2.000000</td>\n",
       "      <td>4.000000</td>\n",
       "      <td>4.000000</td>\n",
       "      <td>5.000000</td>\n",
       "      <td>5.000000</td>\n",
       "    </tr>\n",
       "  </tbody>\n",
       "</table>\n",
       "</div>"
      ],
      "text/plain": [
       "                 id      giveaway        crypto         enter       bitcoin  \\\n",
       "count  1.296800e+04  12968.000000  12968.000000  12968.000000  12968.000000   \n",
       "mean   1.408038e+18      0.033544      0.046422      0.019124      0.006555   \n",
       "std    3.999234e+14      0.202629      0.286459      0.140852      0.087131   \n",
       "min    1.405532e+18      0.000000      0.000000      0.000000      0.000000   \n",
       "25%    1.408083e+18      0.000000      0.000000      0.000000      0.000000   \n",
       "50%    1.408187e+18      0.000000      0.000000      0.000000      0.000000   \n",
       "75%    1.408206e+18      0.000000      0.000000      0.000000      0.000000   \n",
       "max    1.408213e+18      4.000000      6.000000      2.000000      4.000000   \n",
       "\n",
       "            retweet        health         world        travel           tbt  \\\n",
       "count  12968.000000  12968.000000  12968.000000  12968.000000  12968.000000   \n",
       "mean       0.017273      0.052283      0.026604      0.040561      0.018276   \n",
       "std        0.141637      0.299424      0.165652      0.297630      0.135668   \n",
       "min        0.000000      0.000000      0.000000      0.000000      0.000000   \n",
       "25%        0.000000      0.000000      0.000000      0.000000      0.000000   \n",
       "50%        0.000000      0.000000      0.000000      0.000000      0.000000   \n",
       "75%        0.000000      0.000000      0.000000      0.000000      0.000000   \n",
       "max        4.000000      4.000000      2.000000      6.000000      2.000000   \n",
       "\n",
       "              women         check          good       friends       fashion  \\\n",
       "count  12968.000000  12968.000000  12968.000000  12968.000000  12968.000000   \n",
       "mean       0.073026      0.034007      0.054827      0.030074      0.039096   \n",
       "std        0.341003      0.182948      0.236621      0.185515      0.229198   \n",
       "min        0.000000      0.000000      0.000000      0.000000      0.000000   \n",
       "25%        0.000000      0.000000      0.000000      0.000000      0.000000   \n",
       "50%        0.000000      0.000000      0.000000      0.000000      0.000000   \n",
       "75%        0.000000      0.000000      0.000000      0.000000      0.000000   \n",
       "max        4.000000      2.000000      4.000000      4.000000      5.000000   \n",
       "\n",
       "               life  \n",
       "count  12968.000000  \n",
       "mean       0.054287  \n",
       "std        0.259586  \n",
       "min        0.000000  \n",
       "25%        0.000000  \n",
       "50%        0.000000  \n",
       "75%        0.000000  \n",
       "max        5.000000  "
      ]
     },
     "execution_count": 94,
     "metadata": {},
     "output_type": "execute_result"
    }
   ],
   "source": [
    "wordMatDf.describe()"
   ]
  },
  {
   "cell_type": "code",
   "execution_count": 178,
   "metadata": {},
   "outputs": [],
   "source": [
    "X = wordMatDf.copy().values\n",
    "y = df1['retweeted'].values\n",
    "XTrain, XTest, yTrain, yTest = train_test_split(X, y, random_state=1, test_size=0.25)"
   ]
  },
  {
   "cell_type": "code",
   "execution_count": 179,
   "metadata": {},
   "outputs": [
    {
     "name": "stdout",
     "output_type": "stream",
     "text": [
      "Accuracy on Train data=  0.8954349167180753\n",
      "Accuracy on test data=  0.8985194324491055\n"
     ]
    }
   ],
   "source": [
    "# Instantiate the classifier\n",
    "gnb = GaussianNB()\n",
    "\n",
    "\n",
    "# Train classifier\n",
    "gnb.fit(XTrain,yTrain)\n",
    "\n",
    "y_pred = gnb.predict(XTest)\n",
    "y_pred_train = gnb.predict(XTrain)\n",
    "\n",
    "# Print results\n",
    "print('Accuracy on Train data= ', metrics.accuracy_score(y_true = yTrain, y_pred = y_pred_train))\n",
    "print('Accuracy on test data= ', metrics.accuracy_score(y_true = yTest, y_pred = y_pred))"
   ]
  },
  {
   "cell_type": "code",
   "execution_count": 180,
   "metadata": {},
   "outputs": [
    {
     "data": {
      "text/plain": [
       "array([0.89851943, 0.10148057])"
      ]
     },
     "execution_count": 180,
     "metadata": {},
     "output_type": "execute_result"
    }
   ],
   "source": [
    "# get the class probabilities\n",
    "gnb.class_prior_"
   ]
  },
  {
   "cell_type": "code",
   "execution_count": 182,
   "metadata": {},
   "outputs": [
    {
     "data": {
      "text/plain": [
       "array([[1.40808895e+18, 3.63886028e-02, 4.68016936e-02, 1.91097380e-02,\n",
       "        6.52248541e-03, 1.61345692e-02, 5.73292139e-02, 2.62043712e-02,\n",
       "        4.14235038e-02, 1.60201396e-02, 7.96429797e-02, 3.38711523e-02,\n",
       "        5.72147843e-02, 3.06671244e-02, 4.11946447e-02, 5.57271999e-02],\n",
       "       [1.40759493e+18, 2.12765957e-02, 4.35663627e-02, 2.02634245e-02,\n",
       "        1.31712259e-02, 2.53292806e-02, 2.73556231e-02, 2.33029382e-02,\n",
       "        3.85005066e-02, 3.44478217e-02, 1.41843972e-02, 3.14083080e-02,\n",
       "        3.64741641e-02, 2.53292806e-02, 2.33029382e-02, 5.57244174e-02]])"
      ]
     },
     "execution_count": 182,
     "metadata": {},
     "output_type": "execute_result"
    }
   ],
   "source": [
    "gnb.theta_"
   ]
  },
  {
   "cell_type": "code",
   "execution_count": 183,
   "metadata": {},
   "outputs": [
    {
     "data": {
      "text/plain": [
       "array([[6.55689669e+28, 1.57990644e+20, 1.57990644e+20, 1.57990644e+20,\n",
       "        1.57990644e+20, 1.57990644e+20, 1.57990644e+20, 1.57990644e+20,\n",
       "        1.57990644e+20, 1.57990644e+20, 1.57990644e+20, 1.57990644e+20,\n",
       "        1.57990644e+20, 1.57990644e+20, 1.57990644e+20, 1.57990644e+20],\n",
       "       [7.57009693e+29, 1.57990644e+20, 1.57990644e+20, 1.57990644e+20,\n",
       "        1.57990644e+20, 1.57990644e+20, 1.57990644e+20, 1.57990644e+20,\n",
       "        1.57990644e+20, 1.57990644e+20, 1.57990644e+20, 1.57990644e+20,\n",
       "        1.57990644e+20, 1.57990644e+20, 1.57990644e+20, 1.57990644e+20]])"
      ]
     },
     "execution_count": 183,
     "metadata": {},
     "output_type": "execute_result"
    }
   ],
   "source": [
    "gnb.sigma_"
   ]
  },
  {
   "cell_type": "code",
   "execution_count": 130,
   "metadata": {},
   "outputs": [],
   "source": [
    "y = df1['retweeted'].values"
   ]
  },
  {
   "cell_type": "code",
   "execution_count": 162,
   "metadata": {},
   "outputs": [],
   "source": [
    "word = 'giveaway'\n",
    "retw = 'retweeted'\n"
   ]
  },
  {
   "cell_type": "code",
   "execution_count": 165,
   "metadata": {},
   "outputs": [
    {
     "name": "stderr",
     "output_type": "stream",
     "text": [
      "C:\\Users\\mor\\anaconda3\\lib\\site-packages\\sklearn\\utils\\validation.py:72: DataConversionWarning: A column-vector y was passed when a 1d array was expected. Please change the shape of y to (n_samples, ), for example using ravel().\n",
      "  return f(**kwargs)\n"
     ]
    },
    {
     "data": {
      "text/plain": [
       "LogisticRegression()"
      ]
     },
     "execution_count": 165,
     "metadata": {},
     "output_type": "execute_result"
    }
   ],
   "source": [
    "lrm=linear_model.LogisticRegression()\n",
    "lrm.fit(wordMatDf[['giveaway']],wordMatDf[['crypto']],df1['retweeted'])"
   ]
  },
  {
   "cell_type": "code",
   "execution_count": 173,
   "metadata": {},
   "outputs": [
    {
     "data": {
      "text/plain": [
       "0.9999683489647875"
      ]
     },
     "execution_count": 173,
     "metadata": {},
     "output_type": "execute_result"
    }
   ],
   "source": [
    "giveaway=2\n",
    "expit(lrm.intercept_[0]+lrm.coef_[0][0]*hours)"
   ]
  },
  {
   "cell_type": "code",
   "execution_count": 174,
   "metadata": {},
   "outputs": [
    {
     "data": {
      "text/plain": [
       "array([0, 0, 0, ..., 0, 0, 0], dtype=int64)"
      ]
     },
     "execution_count": 174,
     "metadata": {},
     "output_type": "execute_result"
    }
   ],
   "source": [
    "y_pred = lrm.predict(wordMatDf[[\"giveaway\"]])\n",
    "y_pred"
   ]
  },
  {
   "cell_type": "code",
   "execution_count": 175,
   "metadata": {},
   "outputs": [
    {
     "data": {
      "text/plain": [
       "1        False\n",
       "2         True\n",
       "3        False\n",
       "4        False\n",
       "5        False\n",
       "         ...  \n",
       "15105     True\n",
       "15106     True\n",
       "15107     True\n",
       "15108     True\n",
       "15109     True\n",
       "Name: retweeted, Length: 12968, dtype: bool"
      ]
     },
     "execution_count": 175,
     "metadata": {},
     "output_type": "execute_result"
    }
   ],
   "source": [
    "y_actual=df1[\"retweeted\"]\n",
    "y_actual"
   ]
  },
  {
   "cell_type": "code",
   "execution_count": 176,
   "metadata": {},
   "outputs": [
    {
     "data": {
      "text/plain": [
       "array([[11653,     0],\n",
       "       [ 1315,     0]], dtype=int64)"
      ]
     },
     "execution_count": 176,
     "metadata": {},
     "output_type": "execute_result"
    }
   ],
   "source": [
    "metrics.confusion_matrix(y_actual, y_pred)"
   ]
  },
  {
   "cell_type": "code",
   "execution_count": 177,
   "metadata": {},
   "outputs": [
    {
     "name": "stdout",
     "output_type": "stream",
     "text": [
      "accuracy is: 0.8985965453423812\n",
      "precision is: 0.0\n",
      "recall is: 0.0\n",
      "f1 is: 0.0\n"
     ]
    },
    {
     "name": "stderr",
     "output_type": "stream",
     "text": [
      "C:\\Users\\mor\\anaconda3\\lib\\site-packages\\sklearn\\metrics\\_classification.py:1221: UndefinedMetricWarning: Precision is ill-defined and being set to 0.0 due to no predicted samples. Use `zero_division` parameter to control this behavior.\n",
      "  _warn_prf(average, modifier, msg_start, len(result))\n"
     ]
    }
   ],
   "source": [
    "print(\"accuracy is:\",metrics.accuracy_score(y_actual, y_pred))\n",
    "print(\"precision is:\",metrics.precision_score(y_actual, y_pred))\n",
    "print(\"recall is:\",metrics.recall_score(y_actual, y_pred))\n",
    "print(\"f1 is:\",metrics.f1_score(y_actual, y_pred))"
   ]
  },
  {
   "cell_type": "code",
   "execution_count": 134,
   "metadata": {},
   "outputs": [
    {
     "name": "stdout",
     "output_type": "stream",
     "text": [
      "Initial amount of samples: #12968\n",
      "Number of training samples: #10374\n",
      "Number of test samples: #2594\n",
      "\n",
      "Target distribution in original dataset:\n",
      "[False  True False ...  True  True  True]\n",
      "\n",
      "Target distribution in the training set:\n",
      "[False False False ... False False False]\n",
      "\n",
      "Target distribution in the test set:\n",
      "[False  True False ... False False False]\n"
     ]
    }
   ],
   "source": [
    "\n",
    "X_train, X_test, y_train, y_test = train_test_split(X, y, test_size=0.2, random_state=42)\n",
    "\n",
    "print(\"Initial amount of samples: #{}\".format(X.shape[0]))\n",
    "print(\"Number of training samples: #{}\".format(X_train.shape[0]))\n",
    "print(\"Number of test samples: #{}\".format(X_test.shape[0]))\n",
    "\n",
    "print(\"\\nTarget distribution in original dataset:\\n{}\".format(y))\n",
    "print(\"\\nTarget distribution in the training set:\\n{}\\n\".format(y_train))\n",
    "print(\"Target distribution in the test set:\\n{}\".format(y_test))"
   ]
  },
  {
   "cell_type": "code",
   "execution_count": 124,
   "metadata": {},
   "outputs": [],
   "source": [
    "scaler = preprocessing.StandardScaler()\n",
    "X_train_scaled = scaler.fit_transform(X_train)"
   ]
  },
  {
   "cell_type": "code",
   "execution_count": 125,
   "metadata": {},
   "outputs": [
    {
     "name": "stdout",
     "output_type": "stream",
     "text": [
      "Mean:  [-2.67874052e-10 -3.60613794e-16 -1.67250486e-16  5.35981730e-16\n",
      " -2.89191480e-16 -3.26568132e-16 -3.70529176e-16 -4.08151973e-16\n",
      " -6.16524803e-16  5.87452885e-16  1.06479314e-16  3.61384337e-16\n",
      "  3.98916168e-16 -3.43565546e-16  7.74057895e-16  6.90518268e-16]\n",
      "Standard Deviation:  [1. 1. 1. 1. 1. 1. 1. 1. 1. 1. 1. 1. 1. 1. 1. 1.]\n"
     ]
    }
   ],
   "source": [
    "print(\"Mean: \", X_train_scaled.mean(axis=0))\n",
    "print(\"Standard Deviation: \", X_train_scaled.std(axis=0))"
   ]
  },
  {
   "cell_type": "code",
   "execution_count": 126,
   "metadata": {},
   "outputs": [
    {
     "name": "stdout",
     "output_type": "stream",
     "text": [
      "Mean:  [ 1.94617820e-02 -2.43509274e-03 -1.57114332e-02  1.86495414e-02\n",
      " -2.12466604e-02 -2.23899835e-02  2.04021361e-02 -3.09581527e-05\n",
      " -8.27831962e-03 -1.19637928e-02 -6.12602009e-04 -5.61217519e-04\n",
      " -2.47614132e-03  4.84797393e-02  1.65045988e-02 -3.34573697e-03]\n",
      "Standard Deviation:  [0.96632171 1.0505458  0.95696472 1.05292408 0.77783062 0.82006688\n",
      " 1.11467974 0.9999061  0.89631079 0.94086403 1.04872429 0.98702821\n",
      " 0.97458186 1.17473227 1.16422725 0.94519247]\n"
     ]
    }
   ],
   "source": [
    "X_test_scaled = scaler.transform(X_test)\n",
    "print(\"Mean: \", X_test_scaled.mean(axis=0))\n",
    "print(\"Standard Deviation: \", X_test_scaled.std(axis=0))"
   ]
  },
  {
   "cell_type": "code",
   "execution_count": 127,
   "metadata": {},
   "outputs": [
    {
     "name": "stdout",
     "output_type": "stream",
     "text": [
      "Min Value:  [0. 0. 0. 0. 0. 0. 0. 0. 0. 0. 0. 0. 0. 0. 0. 0.]\n",
      "Max Value:  [1. 1. 1. 1. 1. 1. 1. 1. 1. 1. 1. 1. 1. 1. 1. 1.]\n"
     ]
    }
   ],
   "source": [
    "min_max_scaler = MinMaxScaler(feature_range=(0, 1))\n",
    "X_train_scaled_in_range = min_max_scaler.fit_transform(X_train)\n",
    "print(\"Min Value: \", X_train_scaled_in_range.min(axis=0))\n",
    "print(\"Max Value: \", X_train_scaled_in_range.max(axis=0))\n",
    "X_test_scaled_in_range = min_max_scaler.transform(X_test)"
   ]
  },
  {
   "cell_type": "code",
   "execution_count": 128,
   "metadata": {},
   "outputs": [
    {
     "name": "stderr",
     "output_type": "stream",
     "text": [
      "C:\\Users\\mor\\anaconda3\\lib\\site-packages\\sklearn\\linear_model\\_logistic.py:762: ConvergenceWarning: lbfgs failed to converge (status=2):\n",
      "ABNORMAL_TERMINATION_IN_LNSRCH.\n",
      "\n",
      "Increase the number of iterations (max_iter) or scale the data as shown in:\n",
      "    https://scikit-learn.org/stable/modules/preprocessing.html\n",
      "Please also refer to the documentation for alternative solver options:\n",
      "    https://scikit-learn.org/stable/modules/linear_model.html#logistic-regression\n",
      "  n_iter_i = _check_optimize_result(\n"
     ]
    }
   ],
   "source": [
    "\n",
    "clf_model = LogisticRegression().fit(X_train, y_train)"
   ]
  }
 ],
 "metadata": {
  "kernelspec": {
   "display_name": "Python 3",
   "language": "python",
   "name": "python3"
  },
  "language_info": {
   "codemirror_mode": {
    "name": "ipython",
    "version": 3
   },
   "file_extension": ".py",
   "mimetype": "text/x-python",
   "name": "python",
   "nbconvert_exporter": "python",
   "pygments_lexer": "ipython3",
   "version": "3.8.5"
  }
 },
 "nbformat": 4,
 "nbformat_minor": 4
}
